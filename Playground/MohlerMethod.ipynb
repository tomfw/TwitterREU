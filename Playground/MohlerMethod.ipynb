{
 "cells": [
  {
   "cell_type": "code",
   "execution_count": 1,
   "metadata": {
    "collapsed": true
   },
   "outputs": [],
   "source": [
    "import numpy as np\n",
    "import scipy.sparse\n",
    "import networkx as nx\n",
    "import random\n",
    "from sklearn.metrics import roc_auc_score, average_precision_score, precision_recall_fscore_support\n",
    "from twittergraph import TwitterGraph as tg\n",
    "import datetime\n",
    "import matplotlib.pyplot as plt\n",
    "%matplotlib inline"
   ]
  },
  {
   "cell_type": "code",
   "execution_count": 3,
   "metadata": {},
   "outputs": [],
   "source": [
    "graph = tg.rt_graph_from_json('/Volumes/pond/Temp/twitter/', 0)"
   ]
  },
  {
   "cell_type": "code",
   "execution_count": 4,
   "metadata": {},
   "outputs": [],
   "source": [
    "first_split = datetime.datetime(2014, 5, 5) \n",
    "second_split = datetime.datetime(2014, 5, 10)\n",
    "g_0 = tg.tg_by_removing_edges_after_date(graph, first_split)\n",
    "g_1 = tg.tg_by_removing_edges_after_date(graph, second_split)\n",
    "g_2 = tg.tg_with_tg(graph)"
   ]
  },
  {
   "cell_type": "code",
   "execution_count": 5,
   "metadata": {},
   "outputs": [],
   "source": [
    "del graph"
   ]
  },
  {
   "cell_type": "code",
   "execution_count": 6,
   "metadata": {
    "collapsed": true
   },
   "outputs": [
    {
     "name": "stdout",
     "output_type": "stream",
     "text": [
      "Found 17996 new edges out of 35993 total pairs\nFound 9687 new edges out of 19375 total pairs\n"
     ]
    }
   ],
   "source": [
    "train_pairs = g_0.make_pairs_with_edges(g_1, .5)\n",
    "test_pairs = g_1.make_pairs_with_edges(g_2, .5)"
   ]
  },
  {
   "cell_type": "code",
   "execution_count": 7,
   "metadata": {},
   "outputs": [],
   "source": [
    "def normalize(mat):\n",
    "    for i in range(mat.shape[0]):\n",
    "        s = np.sum(mat[i])\n",
    "        if s:\n",
    "            mat[i] /= s\n",
    "    return mat"
   ]
  },
  {
   "cell_type": "code",
   "execution_count": 8,
   "metadata": {},
   "outputs": [],
   "source": [
    "def normalize2(mat):\n",
    "    m = np.mean(mat)\n",
    "    c_mat = np.zeros((mat.shape[0], mat.shape[0]))\n",
    "    c_mat.fill(m)\n",
    "    mat -= c_mat\n",
    "    return mat"
   ]
  },
  {
   "cell_type": "code",
   "execution_count": 9,
   "metadata": {},
   "outputs": [],
   "source": [
    "def load_adj(prefix, d):\n",
    "    suffix = '.npz'\n",
    "    mats = []\n",
    "    for i in range(0, d):\n",
    "        f_name = prefix + str(i) + suffix\n",
    "        print(\"Loading (%d/%d): %s\" % (i + 1, d, f_name))\n",
    "        m = scipy.sparse.load_npz(f_name).todense()\n",
    "        mats.append(normalize(m))\n",
    "    return mats"
   ]
  },
  {
   "cell_type": "code",
   "execution_count": 10,
   "metadata": {},
   "outputs": [
    {
     "name": "stdout",
     "output_type": "stream",
     "text": [
      "Loading (1/11): /Volumes/pond/Temp/SA_RT_ADJ/G_0/SA_RT_ADJ_0.npz\n"
     ]
    },
    {
     "name": "stdout",
     "output_type": "stream",
     "text": [
      "Loading (2/11): /Volumes/pond/Temp/SA_RT_ADJ/G_0/SA_RT_ADJ_1.npz\n"
     ]
    },
    {
     "name": "stdout",
     "output_type": "stream",
     "text": [
      "Loading (3/11): /Volumes/pond/Temp/SA_RT_ADJ/G_0/SA_RT_ADJ_2.npz\n"
     ]
    },
    {
     "name": "stdout",
     "output_type": "stream",
     "text": [
      "Loading (4/11): /Volumes/pond/Temp/SA_RT_ADJ/G_0/SA_RT_ADJ_3.npz\n"
     ]
    },
    {
     "name": "stdout",
     "output_type": "stream",
     "text": [
      "Loading (5/11): /Volumes/pond/Temp/SA_RT_ADJ/G_0/SA_RT_ADJ_4.npz\n"
     ]
    },
    {
     "name": "stdout",
     "output_type": "stream",
     "text": [
      "Loading (6/11): /Volumes/pond/Temp/SA_RT_ADJ/G_0/SA_RT_ADJ_5.npz\n"
     ]
    },
    {
     "name": "stdout",
     "output_type": "stream",
     "text": [
      "Loading (7/11): /Volumes/pond/Temp/SA_RT_ADJ/G_0/SA_RT_ADJ_6.npz\n"
     ]
    },
    {
     "name": "stdout",
     "output_type": "stream",
     "text": [
      "Loading (8/11): /Volumes/pond/Temp/SA_RT_ADJ/G_0/SA_RT_ADJ_7.npz\n"
     ]
    },
    {
     "name": "stdout",
     "output_type": "stream",
     "text": [
      "Loading (9/11): /Volumes/pond/Temp/SA_RT_ADJ/G_0/SA_RT_ADJ_8.npz\n"
     ]
    },
    {
     "name": "stdout",
     "output_type": "stream",
     "text": [
      "Loading (10/11): /Volumes/pond/Temp/SA_RT_ADJ/G_0/SA_RT_ADJ_9.npz\n"
     ]
    },
    {
     "name": "stdout",
     "output_type": "stream",
     "text": [
      "Loading (11/11): /Volumes/pond/Temp/SA_RT_ADJ/G_0/SA_RT_ADJ_10.npz\n"
     ]
    }
   ],
   "source": [
    "A = load_adj('/Volumes/pond/Temp/SA_RT_ADJ/G_0/SA_RT_ADJ_', 11)"
   ]
  },
  {
   "cell_type": "code",
   "execution_count": 8,
   "metadata": {},
   "outputs": [],
   "source": [
    ""
   ]
  },
  {
   "cell_type": "code",
   "execution_count": 11,
   "metadata": {},
   "outputs": [],
   "source": [
    "train_a = {}\n",
    "for i in range(0, len(A)):\n",
    "    train_a[i] = {}\n",
    "    for u, v in train_pairs:\n",
    "        if u not in train_a[i]:\n",
    "            train_a[i][u] = {}\n",
    "        train_a[i][u][v] = A[i][u - 1, v - 1]"
   ]
  },
  {
   "cell_type": "code",
   "execution_count": 12,
   "metadata": {},
   "outputs": [],
   "source": [
    "del A"
   ]
  },
  {
   "cell_type": "code",
   "execution_count": 13,
   "metadata": {
    "collapsed": true
   },
   "outputs": [
    {
     "name": "stdout",
     "output_type": "stream",
     "text": [
      "Loading (1/11): /Volumes/pond/Temp/SA_RT_ADJ/G_1/SA_RT_ADJ_0.npz\n"
     ]
    },
    {
     "name": "stdout",
     "output_type": "stream",
     "text": [
      "Loading (2/11): /Volumes/pond/Temp/SA_RT_ADJ/G_1/SA_RT_ADJ_1.npz\n"
     ]
    },
    {
     "name": "stdout",
     "output_type": "stream",
     "text": [
      "Loading (3/11): /Volumes/pond/Temp/SA_RT_ADJ/G_1/SA_RT_ADJ_2.npz\n"
     ]
    },
    {
     "name": "stdout",
     "output_type": "stream",
     "text": [
      "Loading (4/11): /Volumes/pond/Temp/SA_RT_ADJ/G_1/SA_RT_ADJ_3.npz\n"
     ]
    },
    {
     "name": "stdout",
     "output_type": "stream",
     "text": [
      "Loading (5/11): /Volumes/pond/Temp/SA_RT_ADJ/G_1/SA_RT_ADJ_4.npz\n"
     ]
    },
    {
     "name": "stdout",
     "output_type": "stream",
     "text": [
      "Loading (6/11): /Volumes/pond/Temp/SA_RT_ADJ/G_1/SA_RT_ADJ_5.npz\n"
     ]
    },
    {
     "name": "stdout",
     "output_type": "stream",
     "text": [
      "Loading (7/11): /Volumes/pond/Temp/SA_RT_ADJ/G_1/SA_RT_ADJ_6.npz\n"
     ]
    },
    {
     "name": "stdout",
     "output_type": "stream",
     "text": [
      "Loading (8/11): /Volumes/pond/Temp/SA_RT_ADJ/G_1/SA_RT_ADJ_7.npz\n"
     ]
    },
    {
     "name": "stdout",
     "output_type": "stream",
     "text": [
      "Loading (9/11): /Volumes/pond/Temp/SA_RT_ADJ/G_1/SA_RT_ADJ_8.npz\n"
     ]
    },
    {
     "name": "stdout",
     "output_type": "stream",
     "text": [
      "Loading (10/11): /Volumes/pond/Temp/SA_RT_ADJ/G_1/SA_RT_ADJ_9.npz\n"
     ]
    },
    {
     "name": "stdout",
     "output_type": "stream",
     "text": [
      "Loading (11/11): /Volumes/pond/Temp/SA_RT_ADJ/G_1/SA_RT_ADJ_10.npz\n"
     ]
    }
   ],
   "source": [
    "T = load_adj('/Volumes/pond/Temp/SA_RT_ADJ/G_1/SA_RT_ADJ_', 11)"
   ]
  },
  {
   "cell_type": "code",
   "execution_count": 14,
   "metadata": {},
   "outputs": [],
   "source": [
    "test_a = {}\n",
    "for i in range(0, len(T)):\n",
    "    test_a[i] = {}\n",
    "    for u, v in test_pairs:\n",
    "        if u not in test_a[i]:\n",
    "            test_a[i][u] = {}\n",
    "        test_a[i][u][v] = T[i][u - 1, v - 1]"
   ]
  },
  {
   "cell_type": "code",
   "execution_count": 15,
   "metadata": {},
   "outputs": [],
   "source": [
    "del T"
   ]
  },
  {
   "cell_type": "code",
   "execution_count": 64,
   "metadata": {},
   "outputs": [],
   "source": [
    "beta = [.1, .1, .1, .1, .1, .1, .1, .1, .1, .1, .1]"
   ]
  },
  {
   "cell_type": "code",
   "execution_count": 53,
   "metadata": {},
   "outputs": [],
   "source": [
    ""
   ]
  },
  {
   "cell_type": "code",
   "execution_count": 54,
   "metadata": {},
   "outputs": [],
   "source": [
    "a_train = nx.to_numpy_matrix(g_1.nx_graph)\n",
    "a_test = nx.to_numpy_matrix(g_2.nx_graph)"
   ]
  },
  {
   "cell_type": "code",
   "execution_count": 55,
   "metadata": {},
   "outputs": [],
   "source": [
    "def sigmoid(x):\n",
    "    return 1 / (1 + np.exp(-x))\n",
    "\n",
    "\n",
    "def h_theta():\n",
    "    # Mohler's \"P\" function\n",
    "    # sigma(i=1..n)(B_i * A_i)\n",
    "    mat = np.zeros((A[0].shape[0], A[0].shape[1]))\n",
    "    for i, b in enumerate(beta):\n",
    "        mat += b * A[i]\n",
    "    return sigmoid(mat)\n",
    "\n",
    "\n",
    "def h_theta_single(u, v, test=False):\n",
    "    p = 0\n",
    "    if not test:\n",
    "        for i in range(0, 11):\n",
    "            p += beta[i] * train_a[i][u][v]\n",
    "    else:\n",
    "        for i in range(0, 11):\n",
    "            p += beta[i] * test_a[i][u][v]\n",
    "    return sigmoid(p)\n",
    "    \n",
    "\n",
    "\"\"\"\n",
    "def dj_dtheta_j(h, j):\n",
    "    # partial of J w.r.t. theta_j\n",
    "    # definitely a way to do this step all at once as vector\n",
    "    # need to make it simple for my feeble mind\n",
    "    x_j = (beta[j] * A[j])\n",
    "    start = 0\n",
    "    der = 0\n",
    "    m = 0\n",
    "    for i in range(0, a_train.shape[0]):\n",
    "        for j in range(start, a_train.shape[0]):\n",
    "            der += ((h[i, j]) - a_train[i, j]) * x_j[i, j]\n",
    "            m += 1\n",
    "        start += 1\n",
    "        # print(\"derivative: %.4f\" % (der / m))\n",
    "    return der / m\n",
    "\n",
    "\"\"\"\n",
    "\n",
    "\n",
    "def dj_dtheta_j_single(h, j, u, v):\n",
    "    # partial of J w.r.t theta_j\n",
    "    # h is the precomputed h_theta with the before theta parameters\n",
    "    # j is the parameter of theta\n",
    "    # (u, v) is the training example\n",
    "    # x_j = (beta[j] * A[j])\n",
    "    x_j_uv = train_a[j][u][v]  # x_j_uv = beta[j] * train_a[j][u][v]\n",
    "    der = ((h - a_train[u - 1, v - 1]) * x_j_uv)\n",
    "    return der\n",
    "\n",
    "\n",
    "def cost():\n",
    "    # log likelihood \"J(theta)\"\n",
    "    # standard logistic regression cost function\n",
    "    start = 0\n",
    "    s = 0\n",
    "    h = h_theta()\n",
    "    m = 0\n",
    "    for i in range(0, a_train.shape[0]):\n",
    "        for j in range(start, a_train.shape[0]):\n",
    "            m += 1\n",
    "            y = a_train[i, j]\n",
    "            p = h[i, j]\n",
    "            s += y * np.log(p) + (y-1) * np.log(1 - p)\n",
    "        start += 1\n",
    "    return -s/m\n",
    "\n",
    "def cost2():\n",
    "    c = 0\n",
    "    m = 0\n",
    "    for u, v in train_pairs:\n",
    "        m += 1\n",
    "        y = a_train[u - 1, v - 1]\n",
    "        p = h_theta_single(u, v)\n",
    "        c += y * np.log(p) + (y-1) * np.log(1 - p)\n",
    "    return -c / m"
   ]
  },
  {
   "cell_type": "code",
   "execution_count": 42,
   "metadata": {},
   "outputs": [],
   "source": [
    ""
   ]
  },
  {
   "cell_type": "code",
   "execution_count": 56,
   "metadata": {},
   "outputs": [],
   "source": [
    "def stochastic_gradient_descent(alpha=1e-1, decay=0.999, epochs=10000, batch_size=256):\n",
    "    eps = 0\n",
    "    costs = []\n",
    "    while eps < epochs:\n",
    "        eps += 1\n",
    "        batch = [int(random.random() * len(train_pairs)) for i in range(0, batch_size)]\n",
    "       \n",
    "        for i in batch:\n",
    "            pair = train_pairs[i]\n",
    "            u = pair[0]\n",
    "            v = pair[1]\n",
    "            h_uv = h_theta_single(u, v)\n",
    "            for j in range(0, len(beta)):\n",
    "                beta[j] -= alpha * dj_dtheta_j_single(h_uv, j, u, v)  # partial for single point, parameter\n",
    "        alpha *= decay\n",
    "        if eps % 100 == 0:\n",
    "            costs.append(cost2())\n",
    "        if eps % 1000 == 0:\n",
    "            print(\"After %d epochs cost: %.5f, Alpha: %.5f\" % (eps, cost2(), alpha))\n",
    "            for j in range(0, len(beta)):\n",
    "                print(\"\\tBeta %d: %f\" % (j, beta[j]))\n",
    "    return costs"
   ]
  },
  {
   "cell_type": "code",
   "execution_count": 73,
   "metadata": {
    "collapsed": false
   },
   "outputs": [
    {
     "name": "stdout",
     "output_type": "stream",
     "text": [
      "After 1000 epochs cost: -0.00017, Alpha: 0.03677\n\tBeta 0: 0.100000\n\tBeta 1: 0.100000\n\tBeta 2: 0.972231\n\tBeta 3: 0.597439\n\tBeta 4: 0.434811\n\tBeta 5: 0.377931\n\tBeta 6: 0.296925\n\tBeta 7: 0.300522\n\tBeta 8: 0.264519\n\tBeta 9: 0.279135\n\tBeta 10: 0.259709\n"
     ]
    },
    {
     "name": "stdout",
     "output_type": "stream",
     "text": [
      "After 2000 epochs cost: -0.00021, Alpha: 0.01352\n\tBeta 0: 0.100000\n\tBeta 1: 0.100000\n\tBeta 2: 1.319721\n\tBeta 3: 0.783908\n\tBeta 4: 0.560579\n\tBeta 5: 0.482563\n\tBeta 6: 0.370695\n\tBeta 7: 0.375572\n\tBeta 8: 0.325906\n\tBeta 9: 0.345984\n\tBeta 10: 0.319225\n"
     ]
    },
    {
     "name": "stdout",
     "output_type": "stream",
     "text": [
      "After 3000 epochs cost: -0.00023, Alpha: 0.00497\n\tBeta 0: 0.100000\n\tBeta 1: 0.100000\n\tBeta 2: 1.431295\n\tBeta 3: 0.851665\n\tBeta 4: 0.605075\n\tBeta 5: 0.521022\n\tBeta 6: 0.397494\n\tBeta 7: 0.403873\n\tBeta 8: 0.348591\n\tBeta 9: 0.371295\n\tBeta 10: 0.341368\n"
     ]
    },
    {
     "name": "stdout",
     "output_type": "stream",
     "text": [
      "After 4000 epochs cost: -0.00023, Alpha: 0.00183\n\tBeta 0: 0.100000\n\tBeta 1: 0.100000\n\tBeta 2: 1.475746\n\tBeta 3: 0.876886\n\tBeta 4: 0.621329\n\tBeta 5: 0.535116\n\tBeta 6: 0.407334\n\tBeta 7: 0.414058\n\tBeta 8: 0.356854\n\tBeta 9: 0.380379\n\tBeta 10: 0.349399\n"
     ]
    },
    {
     "name": "stdout",
     "output_type": "stream",
     "text": [
      "After 5000 epochs cost: -0.00023, Alpha: 0.00067\n\tBeta 0: 0.100000\n\tBeta 1: 0.100000\n\tBeta 2: 1.491670\n\tBeta 3: 0.886021\n\tBeta 4: 0.627282\n\tBeta 5: 0.540218\n\tBeta 6: 0.410900\n\tBeta 7: 0.417715\n\tBeta 8: 0.359827\n\tBeta 9: 0.383633\n\tBeta 10: 0.352283\n"
     ]
    },
    {
     "name": "stdout",
     "output_type": "stream",
     "text": [
      "After 6000 epochs cost: -0.00024, Alpha: 0.00025\n\tBeta 0: 0.100000\n\tBeta 1: 0.100000\n\tBeta 2: 1.497570\n\tBeta 3: 0.889368\n\tBeta 4: 0.629511\n\tBeta 5: 0.542100\n\tBeta 6: 0.412226\n\tBeta 7: 0.419072\n\tBeta 8: 0.360937\n\tBeta 9: 0.384844\n\tBeta 10: 0.353360\n"
     ]
    },
    {
     "name": "stdout",
     "output_type": "stream",
     "text": [
      "After 7000 epochs cost: -0.00024, Alpha: 0.00009\n\tBeta 0: 0.100000\n\tBeta 1: 0.100000\n\tBeta 2: 1.499582\n\tBeta 3: 0.890601\n\tBeta 4: 0.630303\n\tBeta 5: 0.542791\n\tBeta 6: 0.412707\n\tBeta 7: 0.419568\n\tBeta 8: 0.361339\n\tBeta 9: 0.385286\n\tBeta 10: 0.353751\n"
     ]
    },
    {
     "name": "stdout",
     "output_type": "stream",
     "text": [
      "After 8000 epochs cost: -0.00024, Alpha: 0.00003\n\tBeta 0: 0.100000\n\tBeta 1: 0.100000\n\tBeta 2: 1.500344\n\tBeta 3: 0.891048\n\tBeta 4: 0.630594\n\tBeta 5: 0.543040\n\tBeta 6: 0.412884\n\tBeta 7: 0.419748\n\tBeta 8: 0.361487\n\tBeta 9: 0.385446\n\tBeta 10: 0.353894\n"
     ]
    },
    {
     "name": "stdout",
     "output_type": "stream",
     "text": [
      "After 9000 epochs cost: -0.00024, Alpha: 0.00001\n\tBeta 0: 0.100000\n\tBeta 1: 0.100000\n\tBeta 2: 1.500641\n\tBeta 3: 0.891214\n\tBeta 4: 0.630703\n\tBeta 5: 0.543134\n\tBeta 6: 0.412949\n\tBeta 7: 0.419815\n\tBeta 8: 0.361542\n\tBeta 9: 0.385506\n\tBeta 10: 0.353947\n"
     ]
    },
    {
     "name": "stdout",
     "output_type": "stream",
     "text": [
      "After 10000 epochs cost: -0.00024, Alpha: 0.00000\n\tBeta 0: 0.100000\n\tBeta 1: 0.100000\n\tBeta 2: 1.500745\n\tBeta 3: 0.891274\n\tBeta 4: 0.630743\n\tBeta 5: 0.543167\n\tBeta 6: 0.412973\n\tBeta 7: 0.419839\n\tBeta 8: 0.361562\n\tBeta 9: 0.385528\n\tBeta 10: 0.353967\n"
     ]
    }
   ],
   "source": [
    "np.seterr(all='warn')  # get specifics if we underflow vs overflow etc...\n",
    "costs = stochastic_gradient_descent(batch_size=400)"
   ]
  },
  {
   "cell_type": "code",
   "execution_count": 74,
   "metadata": {},
   "outputs": [],
   "source": [
    "probs = []\n",
    "actual = []\n",
    "for u, v in test_pairs:\n",
    "    probs.append(h_theta_single(u, v, test=True))\n",
    "    actual.append(a_test[u - 1, v - 1])"
   ]
  },
  {
   "cell_type": "code",
   "execution_count": 75,
   "metadata": {},
   "outputs": [
    {
     "name": "stdout",
     "output_type": "stream",
     "text": [
      "0.500115091051\n0.523451592535\n0.5\n"
     ]
    }
   ],
   "source": [
    "print np.mean(probs)\n",
    "print np.max(probs)\n",
    "print np.min(probs)"
   ]
  },
  {
   "cell_type": "code",
   "execution_count": 76,
   "metadata": {},
   "outputs": [
    {
     "name": "stdout",
     "output_type": "stream",
     "text": [
      "0.549839428062\n0.601165401437\n"
     ]
    }
   ],
   "source": [
    "print(roc_auc_score(actual, probs))\n",
    "print(average_precision_score(actual, probs))"
   ]
  },
  {
   "cell_type": "code",
   "execution_count": 77,
   "metadata": {},
   "outputs": [
    {
     "name": "stdout",
     "output_type": "stream",
     "text": [
      "6240 correct / 12656 predicted (19375 total guess)\n"
     ]
    }
   ],
   "source": [
    "correct = 0\n",
    "pred_pos = 0\n",
    "pred_label = []\n",
    "total = 0\n",
    "for i, (u, v) in enumerate(test_pairs):\n",
    "    total += 1\n",
    "    if probs[i] > 0.500000693356:\n",
    "        pred_label.append(1)\n",
    "        pred_pos += 1\n",
    "        if a_test[u - 1, v - 1]:\n",
    "            correct += 1\n",
    "    else:\n",
    "        pred_label.append(0)\n",
    "print(\"%d correct / %d predicted (%d total guess)\" % (correct, pred_pos, total))"
   ]
  },
  {
   "cell_type": "code",
   "execution_count": 78,
   "metadata": {},
   "outputs": [
    {
     "data": {
      "text/plain": [
       "[<matplotlib.lines.Line2D at 0x122883850>]"
      ]
     },
     "execution_count": 77,
     "metadata": {},
     "output_type": "execute_result"
    },
    {
     "data": {
      "image/png": "[encoded data removed]",
      "text/plain": [
       "<matplotlib.figure.Figure at 0x122c8ab90>"
      ]
     },
     "metadata": {},
     "output_type": "display_data"
    }
   ],
   "source": [
    "plt.plot(costs)"
   ]
  },
  {
   "cell_type": "code",
   "execution_count": 79,
   "metadata": {},
   "outputs": [],
   "source": [
    "(pr, re, f, su) = precision_recall_fscore_support(actual, pred_label, average='binary')"
   ]
  },
  {
   "cell_type": "code",
   "execution_count": 79,
   "metadata": {},
   "outputs": [
    {
     "name": "stdout",
     "output_type": "stream",
     "text": [
      "Precision: 0.4930\nRecall: 0.6442\nF-Measure: 0.5586\n"
     ]
    }
   ],
   "source": [
    "print(\"Precision: %.4f\" % pr)\n",
    "print(\"Recall: %.4f\" % re)\n",
    "print(\"F-Measure: %.4f\" % f)"
   ]
  },
  {
   "cell_type": "code",
   "execution_count": null,
   "metadata": {},
   "outputs": [],
   "source": [
    ""
   ]
  }
 ],
 "metadata": {
  "kernelspec": {
   "display_name": "Python 2",
   "language": "python",
   "name": "python2"
  },
  "language_info": {
   "codemirror_mode": {
    "name": "ipython",
    "version": 2.0
   },
   "file_extension": ".py",
   "mimetype": "text/x-python",
   "name": "python",
   "nbconvert_exporter": "python",
   "pygments_lexer": "ipython2",
   "version": "2.7.6"
  }
 },
 "nbformat": 4,
 "nbformat_minor": 0
}