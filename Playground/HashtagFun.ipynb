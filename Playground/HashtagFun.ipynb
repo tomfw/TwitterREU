{
 "cells": [
  {
   "cell_type": "code",
   "execution_count": 1,
   "metadata": {
    "collapsed": true
   },
   "outputs": [],
   "source": [
    "import numpy as np\n",
    "import networkx as nx\n",
    "import pandas as pd\n",
    "import twittergraph as tg\n",
    "from sklearn.cluster import KMeans\n",
    "from collections import defaultdict\n",
    "from vaderSentiment.vaderSentiment import SentimentIntensityAnalyzer"
   ]
  },
  {
   "cell_type": "code",
   "execution_count": 2,
   "metadata": {},
   "outputs": [
    {
     "name": "stdout",
     "output_type": "stream",
     "text": [
      "Loaded 181416 tweets\n"
     ]
    }
   ],
   "source": [
    "graph = tg.LoadTwitterGraph('/Volumes/pond/Temp/twitter/', 0)"
   ]
  },
  {
   "cell_type": "code",
   "execution_count": null,
   "metadata": {},
   "outputs": [],
   "source": [
    "# just a pile of fun hashtag related stuff\n",
    "# some things don't need to be run again so be careful!"
   ]
  },
  {
   "cell_type": "code",
   "execution_count": 53,
   "metadata": {},
   "outputs": [],
   "source": [
    "hts = sorted(tg.ht_counts.items(), key=lambda x: x[1])"
   ]
  },
  {
   "cell_type": "code",
   "execution_count": 11,
   "metadata": {},
   "outputs": [
    {
     "name": "stdout",
     "output_type": "stream",
     "text": [
      "freestateeff: 11\njuliusmalema: 14\neffcocktailparty: 14\nancvseff: 15\neffcandidatelist: 15\neffwelkom: 16\neffkliptown: 16\neffmarchsabc: 16\neffkliptownrally: 21\neffkhayelitsha: 27\neffmanifesto: 32\neffmafikeng: 34\neffmdantsane: 37\neffighter: 37\neffthankyou: 38\neffrally: 143\nmalema: 198\nmalemaqanda: 239\nvoteeff: 790\neff: 3952\n\n\n\nancgaladinner: 11\nzumaterm2: 11\nanclives: 12\nancnkandla: 12\ndemocraticalliance: 13\nancleads: 14\nancvseff: 15\nbyedahelloanc: 15\nancayisafani: 17\ndancmanifesto: 17\nancvictoryparty: 17\nzumasanc: 18\nancinthestreests: 19\nzumainauguration: 19\nvoteanc7may: 19\nancendorsement: 20\nancyl: 21\nstopzuma: 22\ncarteblanche: 22\nmassvoteanc: 27\nvivaanc: 28\nancfraud: 31\nknowyouranc: 32\nzumaout: 33\nwhyivoteanc: 35\njacobzuma: 41\nancfail: 41\nancvictory: 44\nproudlybroughtbyanc: 49\nzanc: 51\nzumaneverlovedus: 53\nfiringzumaanc7thmay: 57\nzumamustgo: 58\nthankyouanc: 62\nancbreakfast: 70\nivoteanc: 82\nancwins: 83\nsanc: 85\niamanc: 106\nancsiyanqoba: 140\nancrally: 140\nmyanc: 140\nzillevszuma: 146\nancinthestreets: 213\nzumacabinet: 280\nvoteanc: 494\nimpeachzuma: 530\nzuma: 1904\nanc: 4522\n\n\n\ndaisafana: 11\nmyda: 11\ndasms: 11\ncouldivoteda: 11\n2014voteda: 11\ndisqualifyda: 12\ndoublestandards: 12\nda_never_loved_us: 12\n10tweetstozille: 12\ndapresser: 13\ndaoverbergtour: 13\nelectionresultsupdate: 14\nvotedda: 14\ndasabc: 14\ndaforever: 14\neffcandidatelist: 15\n1dayleft: 15\nbyedahelloanc: 15\nsowetotoday: 16\nda7may: 16\ndavsicasa: 16\nmdantsane: 17\nrotterdam: 17\ndabluemachine: 17\ndacabinet: 17\ndancmanifesto: 17\nkeepitgoingda: 17\nthankyouda: 18\nriseoftheda: 19\nyestoda: 20\ndaforlife: 20\nbluewednesday: 23\nsharpevilleday: 23\nmayday: 23\nivoteda2014: 24\nteamdarius: 26\nnkandareport: 27\ndafinalrally: 27\ndaparlyleaders: 27\nhelenzille4president: 28\ndaisracist: 28\njfzille: 29\neasterholidays: 29\nhelenzille: 30\nvoteda7thmay: 32\nda4millionvotes: 37\neffmdantsane: 37\nafricaday: 37\nproudlyda: 43\ndaclowning: 46\ndayouth: 52\nzillenw: 58\nbekkersdal: 59\nknowyourda: 64\nmiddayreport: 64\nvivada: 73\nivotedda: 79\nvoteda7may: 82\nvoteda2014: 84\nidaisafana: 87\nzille: 89\nbbcnewsday: 89\ndaharbours: 105\ndamanifesto: 135\ndamthatharally: 144\ndaneverlovedus: 145\nda4million: 146\nzillevszuma: 146\nzilleinec: 157\nhumanrightsday: 166\ndadelivers: 175\nelectionday: 183\nworkersday: 184\nzillempu: 207\ndainkzn: 212\ndadrugsmarch: 233\nmalemaqanda: 239\nfreedomday: 298\ndarally: 348\nvotingday: 349\nsatoday: 384\ndaresults: 1079\nvoteda: 1106\nteamda: 1378\nivoteda: 1826\nda: 4307\n"
     ]
    }
   ],
   "source": [
    "for ht in hts:\n",
    "    if ('eff' in ht[0] or 'malema' in ht[0] or 'julius' in ht[0]) and ht[1] > 10:\n",
    "        print(\"%s: %d\" % (ht[0], ht[1]))\n",
    "print(\"\\n\\n\")\n",
    "\n",
    "for ht in hts:\n",
    "    if('anc' in ht[0] or 'jacob' in ht[0] or 'zuma' in ht[0]) and ht[1] > 10:\n",
    "        print(\"%s: %d\" %(ht[0], ht[1]))\n",
    "print(\"\\n\\n\")\n",
    "\n",
    "for ht in hts:\n",
    "    if('da' in ht[0] or 'zille' in ht[0] or 'hellen' in ht[0]) and ht[1] > 10:\n",
    "        print(\"%s: %d\" % (ht[0], ht[1]))"
   ]
  },
  {
   "cell_type": "code",
   "execution_count": 19,
   "metadata": {},
   "outputs": [
    {
     "name": "stdout",
     "output_type": "stream",
     "text": [
      "1789\n"
     ]
    }
   ],
   "source": [
    "print graph.degree('eff')"
   ]
  },
  {
   "cell_type": "code",
   "execution_count": 7,
   "metadata": {},
   "outputs": [],
   "source": [
    "graph_copy = graph.copy()\n",
    "for node in graph.nodes_iter():\n",
    "    if graph.node[node]['type'] == 'hashtag':\n",
    "        graph_copy.remove_node(node)"
   ]
  },
  {
   "cell_type": "code",
   "execution_count": 8,
   "metadata": {},
   "outputs": [],
   "source": [
    "nx.write_adjlist(graph_copy, 'SA.adjlist')"
   ]
  },
  {
   "cell_type": "code",
   "execution_count": 9,
   "metadata": {},
   "outputs": [],
   "source": [
    "dw = pd.read_csv('SA.walked', sep=\" \", skiprows=1, header=None)"
   ]
  },
  {
   "cell_type": "code",
   "execution_count": 12,
   "metadata": {},
   "outputs": [
    {
     "data": {
      "text/plain": [
       "KMeans(copy_x=True, init='k-means++', max_iter=300, n_clusters=3, n_init=10,\n    n_jobs=1, precompute_distances=True, random_state=None, tol=0.0001,\n    verbose=0)"
      ]
     },
     "execution_count": 12,
     "metadata": {},
     "output_type": "execute_result"
    }
   ],
   "source": [
    "kmean = KMeans(n_clusters=3)\n",
    "kmean.fit(dw.iloc[:, 1:65])"
   ]
  },
  {
   "cell_type": "code",
   "execution_count": null,
   "metadata": {},
   "outputs": [],
   "source": [
    "dw['label'] = kmean.labels_\n",
    "cluster_assn = pd.DataFrame(columns=[\"node\", \"cluster\"])\n",
    "cluster_assn['node'] = dw.iloc[:, 0]\n",
    "cluster_assn['cluster'] = dw.iloc[:, 65]\n",
    "cluster_assn.to_csv('SA_DW_Clusters.csv')"
   ]
  },
  {
   "cell_type": "code",
   "execution_count": 8,
   "metadata": {},
   "outputs": [],
   "source": [
    "cluster_df = pd.read_csv('SA_DW_Clusters.csv')\n",
    "cluster_dict = {}\n",
    "for i in range(0,cluster_df.shape[0]):\n",
    "    cluster_dict[cluster_df.loc[i, 'node']] = cluster_df.loc[i, 'cluster']"
   ]
  },
  {
   "cell_type": "code",
   "execution_count": 21,
   "metadata": {},
   "outputs": [
    {
     "name": "stdout",
     "output_type": "stream",
     "text": [
      "0\n230\n"
     ]
    }
   ],
   "source": [
    "count = 0\n",
    "for node in graph.nodes_iter():\n",
    "    print count\n",
    "    if graph.node[node]['type'] == 'hashtag':\n",
    "        continue\n",
    "    if count > 1:\n",
    "        break\n",
    "\n",
    "    for u, v in graph.edges(node):\n",
    "        if graph.node[v]['type'] != 'hashtag':\n",
    "            for t_id in graph.edge[u][v]['tweets']:\n",
    "                count += 1\n",
    "                # print(tg.tweets[t_id])\n",
    "                # print(\"\\n\")"
   ]
  },
  {
   "cell_type": "code",
   "execution_count": 52,
   "metadata": {},
   "outputs": [],
   "source": [
    "ht_info = [defaultdict(int), defaultdict(int), defaultdict(int)]\n",
    "stop_tags = ['elections2014', 'da', 'eff', 'anc', 'siyanqoba', 'ayisafani', 'southafrica', 'liar', 'zuma', 'nkandla', 'africa', 'vote', 'sabcnews']\n",
    "sia = SentimentIntensityAnalyzer()\n",
    "for node in graph.nodes_iter():\n",
    "    if graph.node[node]['type'] == 'hashtag':\n",
    "        continue\n",
    "    cluster = cluster_dict[node]\n",
    "    for u, v in graph.edges(node):\n",
    "        if graph.node[v]['type'] == 'hashtag' and v not in stop_tags:\n",
    "            for tweet in graph.edge[u][v]['tweets']:\n",
    "                vs = sia.polarity_scores(tg.tweets[tweet])\n",
    "                if vs['pos'] > .25:\n",
    "                    ht_info[cluster][v] += 1"
   ]
  },
  {
   "cell_type": "code",
   "execution_count": 52,
   "metadata": {},
   "outputs": [
    {
     "name": "stdout",
     "output_type": "stream",
     "text": [
      "voteeff - 86\nasijiki - 61\nvoteanc - 42\nmalemaqanda - 26\nsikbhacile - 26\n\n\n\nivoteda - 174\ndaresults - 140\nvoteforjobs - 139\nteamda - 114\nvoteda - 104\n\n\n\niecmustanswer - 41\ndmgathering - 20\nivoteda - 17\nnkandlareport - 16\nsaelections2014 - 12\n\n\n\n"
     ]
    }
   ],
   "source": [
    "for i in range(0, 3):\n",
    "    hts = reversed(sorted(ht_info[i].items(), key=lambda x: x[1]))\n",
    "    count = 0\n",
    "    for ht in hts:\n",
    "        print(\"%s - %d\" % (ht[0], ht[1]))\n",
    "        count += 1\n",
    "        if count == 5:\n",
    "            break\n",
    "    print(\"\\n\\n\")"
   ]
  },
  {
   "cell_type": "code",
   "execution_count": null,
   "metadata": {},
   "outputs": [],
   "source": [
    "\"\"\"\n",
    "before analysis:\n",
    "elections2014 - 1846\n",
    "eff - 1212\n",
    "siyanqoba - 961\n",
    "anc - 700\n",
    "ayisafani - 511\n",
    "\n",
    "\n",
    "\n",
    "elections2014 - 1866\n",
    "ayisafani - 1832\n",
    "da - 1091\n",
    "anc - 754\n",
    "ivoteda - 693\n",
    "\n",
    "\n",
    "\n",
    "elections2014 - 2188\n",
    "siyanqoba - 606\n",
    "ayisafani - 505\n",
    "anc - 463\n",
    "da - 439\n",
    "\"\"\""
   ]
  },
  {
   "cell_type": "code",
   "execution_count": null,
   "metadata": {},
   "outputs": [],
   "source": [
    ""
   ]
  }
 ],
 "metadata": {
  "kernelspec": {
   "display_name": "Python 2",
   "language": "python",
   "name": "python2"
  },
  "language_info": {
   "codemirror_mode": {
    "name": "ipython",
    "version": 2.0
   },
   "file_extension": ".py",
   "mimetype": "text/x-python",
   "name": "python",
   "nbconvert_exporter": "python",
   "pygments_lexer": "ipython2",
   "version": "2.7.6"
  }
 },
 "nbformat": 4,
 "nbformat_minor": 0
}