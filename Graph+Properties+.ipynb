{
 "cells": [
  {
   "cell_type": "code",
   "execution_count": 2,
   "metadata": {
    "collapsed": true
   },
   "outputs": [],
   "source": [
    "import time\n",
    "import calendar\n",
    "import codecs\n",
    "import datetime\n",
    "import json\n",
    "import sys\n",
    "import gzip\n",
    "import string\n",
    "import glob\n",
    "import re\n",
    "import os\n",
    "import numpy as np\n",
    "from os import listdir\n",
    "from os.path import isfile, join\n",
    "import csv\n",
    "import networkx as nx\n",
    "from demjson import decode\n",
    "import pandas as pd\n",
    "import random\n",
    "from collections import defaultdict\n",
    "from nltk.corpus import stopwords\n",
    "from sklearn.ensemble import RandomForestClassifier\n",
    "from sklearn.svm import SVC\n",
    "from sklearn.metrics import roc_auc_score\n",
    "from itertools import chain\n",
    "import math\n",
    "import matplotlib.pyplot as plt\n",
    "import twittergraph as tg"
   ]
  },
  {
   "cell_type": "code",
   "execution_count": 3,
   "metadata": {},
   "outputs": [
    {
     "name": "stdout",
     "output_type": "stream",
     "text": [
      "Loaded 181416 tweets\n"
     ]
    }
   ],
   "source": [
    "graph_SA = tg.LoadTwitterGraph('/Users/Tate/Downloads/', 0, sample_amount = None)"
   ]
  },
  {
   "cell_type": "code",
   "execution_count": 4,
   "metadata": {},
   "outputs": [
    {
     "name": "stdout",
     "output_type": "stream",
     "text": [
      "Loaded 1135842 tweets\n"
     ]
    }
   ],
   "source": [
    "graph_K = tg.LoadTwitterGraph('/Users/Tate/Downloads/', 1, sample_amount = None)"
   ]
  },
  {
   "cell_type": "code",
   "execution_count": 5,
   "metadata": {},
   "outputs": [
    {
     "name": "stdout",
     "output_type": "stream",
     "text": [
      "Loaded 548708 tweets\n"
     ]
    }
   ],
   "source": [
    "graph_N = tg.LoadTwitterGraph('/Users/Tate/Downloads/', 2, sample_amount = 0.2)"
   ]
  },
  {
   "cell_type": "code",
   "execution_count": 6,
   "metadata": {},
   "outputs": [
    {
     "name": "stdout",
     "output_type": "stream",
     "text": [
      "South Africa Info Name: \n",
      "Type: Graph\n",
      "Number of nodes: 26669\n",
      "Number of edges: 173629\n",
      "Average degree:  13.0210\n",
      "Kenya Info Name: \n",
      "Type: Graph\n",
      "Number of nodes: 60249\n",
      "Number of edges: 701867\n",
      "Average degree:  23.2989\n",
      "Nigeria Info Name: \n",
      "Type: Graph\n",
      "Number of nodes: 92768\n",
      "Number of edges: 533369\n",
      "Average degree:  11.4990\n"
     ]
    }
   ],
   "source": [
    "SA_info = nx.info(graph_SA)\n",
    "print(\"South Africa Info\", SA_info)\n",
    "K_info = nx.info(graph_K)\n",
    "print(\"Kenya Info\", K_info)\n",
    "N_info = nx.info(graph_N)\n",
    "print(\"Nigeria Info\", N_info)"
   ]
  },
  {
   "cell_type": "code",
   "execution_count": 7,
   "metadata": {},
   "outputs": [
    {
     "name": "stdout",
     "output_type": "stream",
     "text": [
      "South Africa CC 3\n",
      "Kenya CC 1\n",
      "Nigeria CC 2467\n"
     ]
    }
   ],
   "source": [
    "SA_cc = nx.number_connected_components(graph_SA)\n",
    "print(\"South Africa CC\", SA_cc)\n",
    "K_cc = nx.number_connected_components(graph_K)\n",
    "print(\"Kenya CC\", K_cc)\n",
    "N_cc = nx.number_connected_components(graph_N)\n",
    "print(\"Nigeria CC\", N_cc)\n"
   ]
  },
  {
   "cell_type": "code",
   "execution_count": 8,
   "metadata": {
    "collapsed": true
   },
   "outputs": [],
   "source": [
    "deg = list(nx.degree(graph_SA).values())\n",
    "freq = []\n",
    "for x in deg:\n",
    "    freq.append(deg.count(x))"
   ]
  },
  {
   "cell_type": "code",
   "execution_count": 9,
   "metadata": {},
   "outputs": [
    {
     "name": "stderr",
     "output_type": "stream",
     "text": [
      "/anaconda/lib/python3.6/site-packages/ipykernel_launcher.py:4: RuntimeWarning: divide by zero encountered in log\n",
      "  after removing the cwd from sys.path.\n"
     ]
    }
   ],
   "source": [
    "import numpy\n",
    "logdeg = []\n",
    "for x in deg:\n",
    "    logdeg.append(numpy.log(x))\n",
    "\n",
    "#print(logdeg)\n",
    "\n",
    "logfreq = []\n",
    "for y in freq:\n",
    "    logfreq.append(numpy.log(y))\n",
    "\n",
    "#print(logfreq)"
   ]
  },
  {
   "cell_type": "code",
   "execution_count": 11,
   "metadata": {},
   "outputs": [
    {
     "data": {
      "image/png": "[encoded data removed]",
      "text/plain": [
       "<matplotlib.figure.Figure at 0x14096fc50>"
      ]
     },
     "metadata": {},
     "output_type": "display_data"
    }
   ],
   "source": [
    "plt.title('Degree Distribution: Power Law: South Africa')\n",
    "plt.scatter(logdeg,logfreq)\n",
    "#plt.legend(loc = 'lower right')\n",
    "#plt.plot([0, 1], [0, 1],'r--')\n",
    "plt.xlim([0, 10])\n",
    "plt.ylim([0, 10])\n",
    "plt.ylabel('log(Degree Frequency)')\n",
    "plt.xlabel('log(Degree)')\n",
    "plt.show()"
   ]
  },
  {
   "cell_type": "code",
   "execution_count": 12,
   "metadata": {
    "collapsed": true
   },
   "outputs": [],
   "source": [
    "deg = list(nx.degree(graph_K).values())\n",
    "freq = []\n",
    "for x in deg:\n",
    "    freq.append(deg.count(x))"
   ]
  },
  {
   "cell_type": "code",
   "execution_count": 13,
   "metadata": {
    "collapsed": true
   },
   "outputs": [],
   "source": [
    "import numpy\n",
    "logdeg = []\n",
    "for x in deg:\n",
    "    logdeg.append(numpy.log(x))\n",
    "\n",
    "#print(logdeg)\n",
    "\n",
    "logfreq = []\n",
    "for y in freq:\n",
    "    logfreq.append(numpy.log(y))\n",
    "\n",
    "#print(logfreq)"
   ]
  },
  {
   "cell_type": "code",
   "execution_count": 14,
   "metadata": {},
   "outputs": [
    {
     "data": {
      "image/png": "[encoded data removed]",
      "text/plain": [
       "<matplotlib.figure.Figure at 0x1407fcef0>"
      ]
     },
     "metadata": {},
     "output_type": "display_data"
    }
   ],
   "source": [
    "plt.title('Degree Distribution: Power Law: Kenya')\n",
    "plt.scatter(logdeg,logfreq)\n",
    "#plt.legend(loc = 'lower right')\n",
    "#plt.plot([0, 1], [0, 1],'r--')\n",
    "plt.xlim([0, 10])\n",
    "plt.ylim([0, 10])\n",
    "plt.ylabel('log(Degree Frequency)')\n",
    "plt.xlabel('log(Degree)')\n",
    "plt.show()"
   ]
  },
  {
   "cell_type": "code",
   "execution_count": 15,
   "metadata": {
    "collapsed": true
   },
   "outputs": [],
   "source": [
    "deg = list(nx.degree(graph_N).values())\n",
    "freq = []\n",
    "for x in deg:\n",
    "    freq.append(deg.count(x))"
   ]
  },
  {
   "cell_type": "code",
   "execution_count": 16,
   "metadata": {},
   "outputs": [
    {
     "name": "stderr",
     "output_type": "stream",
     "text": [
      "/anaconda/lib/python3.6/site-packages/ipykernel_launcher.py:4: RuntimeWarning: divide by zero encountered in log\n",
      "  after removing the cwd from sys.path.\n"
     ]
    }
   ],
   "source": [
    "import numpy\n",
    "logdeg = []\n",
    "for x in deg:\n",
    "    logdeg.append(numpy.log(x))\n",
    "\n",
    "#print(logdeg)\n",
    "\n",
    "logfreq = []\n",
    "for y in freq:\n",
    "    logfreq.append(numpy.log(y))\n",
    "\n",
    "#print(logfreq)"
   ]
  },
  {
   "cell_type": "code",
   "execution_count": 17,
   "metadata": {},
   "outputs": [
    {
     "data": {
      "image/png": "[encoded data removed]",
      "text/plain": [
       "<matplotlib.figure.Figure at 0x13bf9ca58>"
      ]
     },
     "metadata": {},
     "output_type": "display_data"
    }
   ],
   "source": [
    "plt.title('Degree Distribution: Power Law')\n",
    "plt.scatter(logdeg,logfreq)\n",
    "#plt.legend(loc = 'lower right')\n",
    "#plt.plot([0, 1], [0, 1],'r--')\n",
    "plt.xlim([0, 10])\n",
    "plt.ylim([0, 10])\n",
    "plt.ylabel('log(Degree Frequency)')\n",
    "plt.xlabel('log(Degree)')\n",
    "plt.show()"
   ]
  },
  {
   "cell_type": "code",
   "execution_count": null,
   "metadata": {
    "collapsed": true
   },
   "outputs": [],
   "source": []
  }
 ],
 "metadata": {
  "kernelspec": {
   "display_name": "Python 3",
   "language": "python",
   "name": "python3"
  },
  "language_info": {
   "codemirror_mode": {
    "name": "ipython",
    "version": 3
   },
   "file_extension": ".py",
   "mimetype": "text/x-python",
   "name": "python",
   "nbconvert_exporter": "python",
   "pygments_lexer": "ipython3",
   "version": "3.6.1"
  }
 },
 "nbformat": 4,
 "nbformat_minor": 2
}
