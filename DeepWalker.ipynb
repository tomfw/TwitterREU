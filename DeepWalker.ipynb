{
 "cells": [
  {
   "cell_type": "code",
   "execution_count": 2,
   "metadata": {
    "collapsed": true
   },
   "outputs": [],
   "source": [
    "from graph.collabgraph import CollabGraph\n",
    "from graph.fbgraph import FBGraph\n",
    "from graph.enrongraph import EnronGraph\n",
    "from graph.twittergraph import TwitterGraph\n",
    "import networkx as nx\n",
    "from sklearn.ensemble import RandomForestClassifier\n",
    "from sklearn.svm import SVC\n",
    "from sklearn.metrics import roc_auc_score, average_precision_score, auc\n",
    "from sklearn.metrics import precision_recall_curve, precision_recall_fscore_support\n",
    "from sklearn.ensemble import AdaBoostClassifier"
   ]
  },
  {
   "cell_type": "code",
   "execution_count": 3,
   "metadata": {},
   "outputs": [],
   "source": [
    "file_names = {'southafrica': '0',\n",
    "              'fb': 'FacebookFilteredAdj_90Days_6ActiveTimes_30OutInDeg.mat',\n",
    "              'enron': 'EnronDirectedWithCc_7days.mat',\n",
    "              'collab': 'citation2Filtered.mat'}\n",
    "data_root = '/Users/tomfw/Downloads/DataShared/'"
   ]
  },
  {
   "cell_type": "code",
   "execution_count": 5,
   "metadata": {},
   "outputs": [],
   "source": [
    "# graph = CollabGraph.load_collab_graph(data_root + file_names['collab'])\n",
    "# graph = FBGraph.load_fb_graph(data_root + file_names['fb'])\n",
    "#graph = EnronGraph.load_enron_graph(data_root + file_names['enron'])\n",
    "graph = TwitterGraph.rt_graph_from_json(data_root, 0)"
   ]
  },
  {
   "cell_type": "code",
   "execution_count": 5,
   "metadata": {
    "collapsed": true
   },
   "outputs": [
    {
     "name": "stdout",
     "output_type": "stream",
     "text": [
      "(datetime.datetime(2014, 3, 15, 0, 28, 54), datetime.datetime(2014, 3, 19, 0, 28, 54))\n"
     ]
    },
    {
     "name": "stdout",
     "output_type": "stream",
     "text": [
      "(datetime.datetime(2014, 3, 19, 0, 28, 54), datetime.datetime(2014, 3, 23, 0, 28, 54))\n"
     ]
    },
    {
     "name": "stdout",
     "output_type": "stream",
     "text": [
      "(datetime.datetime(2014, 3, 23, 0, 28, 54), datetime.datetime(2014, 3, 27, 0, 28, 54))\n"
     ]
    },
    {
     "name": "stdout",
     "output_type": "stream",
     "text": [
      "(datetime.datetime(2014, 3, 27, 0, 28, 54), datetime.datetime(2014, 3, 31, 0, 28, 54))\n"
     ]
    },
    {
     "name": "stdout",
     "output_type": "stream",
     "text": [
      "(datetime.datetime(2014, 3, 31, 0, 28, 54), datetime.datetime(2014, 4, 4, 0, 28, 54))\n"
     ]
    },
    {
     "name": "stdout",
     "output_type": "stream",
     "text": [
      "(datetime.datetime(2014, 4, 4, 0, 28, 54), datetime.datetime(2014, 4, 8, 0, 28, 54))\n"
     ]
    },
    {
     "name": "stdout",
     "output_type": "stream",
     "text": [
      "(datetime.datetime(2014, 4, 8, 0, 28, 54), datetime.datetime(2014, 4, 12, 0, 28, 54))\n"
     ]
    },
    {
     "name": "stdout",
     "output_type": "stream",
     "text": [
      "(datetime.datetime(2014, 4, 12, 0, 28, 54), datetime.datetime(2014, 4, 16, 0, 28, 54))\n"
     ]
    },
    {
     "name": "stdout",
     "output_type": "stream",
     "text": [
      "(datetime.datetime(2014, 4, 16, 0, 28, 54), datetime.datetime(2014, 4, 20, 0, 28, 54))\n"
     ]
    },
    {
     "name": "stdout",
     "output_type": "stream",
     "text": [
      "(datetime.datetime(2014, 4, 20, 0, 28, 54), datetime.datetime(2014, 4, 24, 0, 28, 54))\n"
     ]
    },
    {
     "name": "stdout",
     "output_type": "stream",
     "text": [
      "(datetime.datetime(2014, 4, 24, 0, 28, 54), datetime.datetime(2014, 4, 28, 0, 28, 54))\n"
     ]
    },
    {
     "name": "stdout",
     "output_type": "stream",
     "text": [
      "(datetime.datetime(2014, 4, 28, 0, 28, 54), datetime.datetime(2014, 5, 2, 0, 28, 54))\n"
     ]
    },
    {
     "name": "stdout",
     "output_type": "stream",
     "text": [
      "(datetime.datetime(2014, 5, 2, 0, 28, 54), datetime.datetime(2014, 5, 6, 0, 28, 54))\n"
     ]
    },
    {
     "name": "stdout",
     "output_type": "stream",
     "text": [
      "(datetime.datetime(2014, 5, 6, 0, 28, 54), datetime.datetime(2014, 5, 10, 0, 28, 54))\n"
     ]
    },
    {
     "name": "stdout",
     "output_type": "stream",
     "text": [
      "(datetime.datetime(2014, 5, 10, 0, 28, 54), datetime.datetime(2014, 5, 14, 0, 28, 54))\n"
     ]
    },
    {
     "name": "stdout",
     "output_type": "stream",
     "text": [
      "(datetime.datetime(2014, 5, 14, 0, 28, 54), datetime.datetime(2014, 5, 18, 0, 28, 54))\n"
     ]
    },
    {
     "name": "stdout",
     "output_type": "stream",
     "text": [
      "(datetime.datetime(2014, 5, 18, 0, 28, 54), datetime.datetime(2014, 5, 22, 0, 28, 54))\n"
     ]
    },
    {
     "name": "stdout",
     "output_type": "stream",
     "text": [
      "(datetime.datetime(2014, 5, 22, 0, 28, 54), datetime.datetime(2014, 5, 26, 0, 28, 54))\n"
     ]
    },
    {
     "name": "stdout",
     "output_type": "stream",
     "text": [
      "(datetime.datetime(2014, 5, 26, 0, 28, 54), datetime.datetime(2014, 5, 30, 0, 28, 54))\n"
     ]
    },
    {
     "name": "stdout",
     "output_type": "stream",
     "text": [
      "(datetime.datetime(2014, 5, 30, 0, 28, 54), datetime.datetime(2014, 6, 3, 0, 28, 54))\n"
     ]
    },
    {
     "name": "stdout",
     "output_type": "stream",
     "text": [
      "(datetime.datetime(2014, 6, 3, 0, 28, 54), datetime.datetime(2014, 6, 7, 0, 28, 54))\n"
     ]
    },
    {
     "name": "stdout",
     "output_type": "stream",
     "text": [
      "(datetime.datetime(2014, 6, 7, 0, 28, 54), datetime.datetime(2014, 6, 11, 0, 28, 54))\n"
     ]
    },
    {
     "name": "stdout",
     "output_type": "stream",
     "text": [
      "(datetime.datetime(2014, 6, 11, 0, 28, 54), datetime.datetime(2014, 6, 15, 0, 28, 54))\n"
     ]
    },
    {
     "name": "stdout",
     "output_type": "stream",
     "text": [
      "23\n1544\n2076\n1114\n1563"
     ]
    },
    {
     "name": "stdout",
     "output_type": "stream",
     "text": [
      "\n1812\n2645\n2839\n4740\n3028\n2571\n3042\n4057\n7109"
     ]
    },
    {
     "name": "stdout",
     "output_type": "stream",
     "text": [
      "\n18764\n3751\n1061\n2271\n1578\n1009\n1130\n939"
     ]
    },
    {
     "name": "stdout",
     "output_type": "stream",
     "text": [
      "\n647\n461\n"
     ]
    }
   ],
   "source": [
    "sgs = graph.subgraphs_of_length(days=4)\n",
    "print(len(sgs))\n",
    "for sg in sgs:\n",
    "    print(sg.nx_graph.number_of_edges())"
   ]
  },
  {
   "cell_type": "code",
   "execution_count": 6,
   "metadata": {},
   "outputs": [
    {
     "name": "stdout",
     "output_type": "stream",
     "text": [
      "(datetime.datetime(2014, 3, 15, 0, 28, 54), datetime.datetime(2014, 4, 12, 0, 28, 54))\n"
     ]
    }
   ],
   "source": [
    "g_0 = graph.subgraph_within_dates(sgs[0].min_date, sgs[20].max_date)\n",
    "print(sgs[0].min_date, sgs[6].max_date)"
   ]
  },
  {
   "cell_type": "code",
   "execution_count": 8,
   "metadata": {},
   "outputs": [
    {
     "name": "stdout",
     "output_type": "stream",
     "text": [
      "(datetime.datetime(2014, 4, 12, 0, 28, 54), datetime.datetime(2014, 4, 16, 0, 28, 54))\n(datetime.datetime(2014, 4, 16, 0, 28, 54), datetime.datetime(2014, 4, 20, 0, 28, 54))\n"
     ]
    }
   ],
   "source": [
    "g_1 = graph.subgraph_within_dates(sgs[21].min_date, sgs[21].max_date)\n",
    "g_2 = graph.subgraph_within_dates(sgs[22].min_date, sgs[22].max_date)\n",
    "print(sgs[7].min_date, sgs[7].max_date)\n",
    "print(sgs[8].min_date, sgs[8].max_date)"
   ]
  },
  {
   "cell_type": "code",
   "execution_count": 8,
   "metadata": {},
   "outputs": [
    {
     "name": "stdout",
     "output_type": "stream",
     "text": [
      "166 edges repeated\n0 timestamps repeated\n"
     ]
    }
   ],
   "source": [
    "repeat_edges = 0\n",
    "repeat_times = 0\n",
    "for u, v, data in g_1.nx_graph.edges_iter(data=True):\n",
    "    if g_0.nx_graph.has_edge(u, v):\n",
    "        repeat_edges += 1\n",
    "        for time in data['timestamps']:\n",
    "            for time2 in g_0.nx_graph.edge[u][v]['timestamps']:\n",
    "                if time == time2:\n",
    "                    repeat_times += 1\n",
    "print(\"%d edges repeated\\n%d timestamps repeated\" % (repeat_edges, repeat_times))"
   ]
  },
  {
   "cell_type": "code",
   "execution_count": 9,
   "metadata": {},
   "outputs": [],
   "source": [
    ""
   ]
  },
  {
   "cell_type": "code",
   "execution_count": 9,
   "metadata": {},
   "outputs": [
    {
     "name": "stdout",
     "output_type": "stream",
     "text": [
      "57397\n647\n461\n"
     ]
    }
   ],
   "source": [
    "print g_0.nx_graph.number_of_edges()\n",
    "print g_1.nx_graph.number_of_edges()\n",
    "print g_2.nx_graph.number_of_edges()"
   ]
  },
  {
   "cell_type": "code",
   "execution_count": 10,
   "metadata": {},
   "outputs": [],
   "source": [
    ""
   ]
  },
  {
   "cell_type": "code",
   "execution_count": 415,
   "metadata": {},
   "outputs": [],
   "source": [
    "# nx.write_edgelist(g_0.nx_graph, 'fb-fucked.edgelist')\n",
    "# g_0.save_edgelist('twitter_edges.txt')"
   ]
  },
  {
   "cell_type": "code",
   "execution_count": 10,
   "metadata": {},
   "outputs": [],
   "source": [
    "g_0.embeddings = None"
   ]
  },
  {
   "cell_type": "code",
   "execution_count": 12,
   "metadata": {},
   "outputs": [],
   "source": [
    "g_0.load_embeddings('twitter-n2v6.txt', 128)"
   ]
  },
  {
   "cell_type": "code",
   "execution_count": 567,
   "metadata": {},
   "outputs": [],
   "source": [
    ""
   ]
  },
  {
   "cell_type": "code",
   "execution_count": 13,
   "metadata": {},
   "outputs": [],
   "source": [
    "g_1.embeddings = g_0.embeddings\n",
    "g_1.emb_cols = g_0.emb_cols\n",
    "\n",
    "g_2.embeddings = g_0.embeddings\n",
    "g_2.emb_cols = g_0.emb_cols"
   ]
  },
  {
   "cell_type": "code",
   "execution_count": 13,
   "metadata": {},
   "outputs": [
    {
     "name": "stdout",
     "output_type": "stream",
     "text": [
      "Rejected 0 nodes.\n"
     ]
    },
    {
     "name": "stdout",
     "output_type": "stream",
     "text": [
      "Rejected 0 nodes.\n"
     ]
    }
   ],
   "source": [
    "train_pairs = g_0.make_pairs_with_edges(g_1, .5, enforce_has_embeddings=True, enforce_non_edge=False)\n",
    "test_pairs = g_1.make_pairs_with_edges(g_2, .5, enforce_non_edge=False, enforce_has_embeddings=True)"
   ]
  },
  {
   "cell_type": "code",
   "execution_count": 15,
   "metadata": {},
   "outputs": [
    {
     "name": "stdout",
     "output_type": "stream",
     "text": [
      "Precomputing katzes....\n"
     ]
    },
    {
     "name": "stdout",
     "output_type": "stream",
     "text": [
      "\t1006 pairs checked and 1006 pairs in dataframe\n"
     ]
    }
   ],
   "source": [
    "df_train, y_train = g_0.to_dataframe(pairs=train_pairs, label_graph=g_1)\n",
    "rf = RandomForestClassifier(n_estimators=500, max_depth=None, min_samples_split=2, random_state=0, n_jobs=-1)\n",
    "# rf = SVC(kernel='linear', probability=True)\n",
    "# rf = AdaBoostClassifier(n_estimators=500)\n",
    "fields = g_0.emb_cols\n",
    "x_train = df_train.loc[:, fields]\n",
    "classifier = rf.fit(x_train, y_train)"
   ]
  },
  {
   "cell_type": "code",
   "execution_count": 16,
   "metadata": {},
   "outputs": [
    {
     "name": "stdout",
     "output_type": "stream",
     "text": [
      "Precomputing katzes....\n"
     ]
    },
    {
     "name": "stdout",
     "output_type": "stream",
     "text": [
      "\t696 pairs checked and 696 pairs in dataframe\n"
     ]
    }
   ],
   "source": [
    "df_test, y_test = g_1.to_dataframe(pairs=test_pairs, label_graph=g_2)"
   ]
  },
  {
   "cell_type": "code",
   "execution_count": 16,
   "metadata": {},
   "outputs": [
    {
     "name": "stdout",
     "output_type": "stream",
     "text": [
      "Prediction made.... Done\n"
     ]
    }
   ],
   "source": [
    "# fields = g_1.emb_cols\n",
    "x_test = df_test.loc[:, fields]\n",
    "pred = classifier.predict_proba(x_test)\n",
    "print(\"Prediction made.... Done\")"
   ]
  },
  {
   "cell_type": "code",
   "execution_count": 17,
   "metadata": {},
   "outputs": [
    {
     "name": "stdout",
     "output_type": "stream",
     "text": [
      "0.795043929185\n"
     ]
    }
   ],
   "source": [
    "print(roc_auc_score(y_test, pred[:, 1]))"
   ]
  },
  {
   "cell_type": "code",
   "execution_count": 18,
   "metadata": {},
   "outputs": [],
   "source": [
    "pr_curve = precision_recall_curve(y_test, pred[:, 1])"
   ]
  },
  {
   "cell_type": "code",
   "execution_count": 19,
   "metadata": {},
   "outputs": [
    {
     "name": "stdout",
     "output_type": "stream",
     "text": [
      "0.824401494469\n0.823967320857\n"
     ]
    }
   ],
   "source": [
    "print auc(pr_curve[1], pr_curve[0], reorder=True)\n",
    "print average_precision_score(y_test, pred[:, 1])"
   ]
  },
  {
   "cell_type": "code",
   "execution_count": 532,
   "metadata": {},
   "outputs": [],
   "source": [
    "bin_labels = []\n",
    "for p in pred[: , 1]:\n",
    "    if p > .5:\n",
    "        bin_labels.append(1)\n",
    "    else:\n",
    "        bin_labels.append(0)"
   ]
  },
  {
   "cell_type": "code",
   "execution_count": 533,
   "metadata": {},
   "outputs": [
    {
     "name": "stdout",
     "output_type": "stream",
     "text": [
      "0.74877946715\n0.735632183908\n"
     ]
    }
   ],
   "source": [
    "pr, re, fs, su = precision_recall_fscore_support(y_test, bin_labels, average='macro')\n",
    "print pr\n",
    "print re"
   ]
  },
  {
   "cell_type": "code",
   "execution_count": 1,
   "metadata": {},
   "outputs": [],
   "source": [
    "# sgs = graph.subgraphs_of_length(periods=1)\n",
    "# tg = TwitterGraph.rt_graph_from_json(data_root, 0)\n",
    "# sgs = graph.subgraphs_of_length(days=7)"
   ]
  },
  {
   "cell_type": "code",
   "execution_count": 2,
   "metadata": {
    "collapsed": true
   },
   "outputs": [
    {
     "ename": "NameError",
     "evalue": "name 'sgs' is not defined",
     "traceback": [
      "\u001b[0;31m\u001b[0m",
      "\u001b[0;31mNameError\u001b[0mTraceback (most recent call last)",
      "\u001b[0;32m<ipython-input-2-31afa0ce072a>\u001b[0m in \u001b[0;36m<module>\u001b[0;34m()\u001b[0m\n\u001b[1;32m      1\u001b[0m \u001b[0;31m# confirm that no edge/timestamps are repeated in different subgraphs\u001b[0m\u001b[0;34m\u001b[0m\u001b[0;34m\u001b[0m\u001b[0m\n\u001b[0;32m----> 2\u001b[0;31m \u001b[0;32mfor\u001b[0m \u001b[0mi\u001b[0m\u001b[0;34m,\u001b[0m \u001b[0msg\u001b[0m \u001b[0;32min\u001b[0m \u001b[0menumerate\u001b[0m\u001b[0;34m(\u001b[0m\u001b[0msgs\u001b[0m\u001b[0;34m)\u001b[0m\u001b[0;34m:\u001b[0m\u001b[0;34m\u001b[0m\u001b[0m\n\u001b[0m\u001b[1;32m      3\u001b[0m     \u001b[0;32mif\u001b[0m \u001b[0mi\u001b[0m \u001b[0;34m>\u001b[0m \u001b[0;36m0\u001b[0m\u001b[0;34m:\u001b[0m\u001b[0;34m\u001b[0m\u001b[0m\n\u001b[1;32m      4\u001b[0m         \u001b[0mn_edges\u001b[0m \u001b[0;34m=\u001b[0m \u001b[0;36m0\u001b[0m\u001b[0;34m\u001b[0m\u001b[0m\n\u001b[1;32m      5\u001b[0m         \u001b[0mn_time_stamps\u001b[0m \u001b[0;34m=\u001b[0m \u001b[0;36m0\u001b[0m\u001b[0;34m\u001b[0m\u001b[0m\n",
      "\u001b[0;31mNameError\u001b[0m: name 'sgs' is not defined"
     ],
     "output_type": "error"
    }
   ],
   "source": [
    "# confirm that no edge/timestamps are repeated in different subgraphs\n",
    "for i, sg in enumerate(sgs):\n",
    "    if i > 0:\n",
    "        n_edges = 0\n",
    "        n_time_stamps = 0\n",
    "        prev = sgs[i - 1]\n",
    "        for u, v, data in prev.nx_graph.edges_iter(data=True):\n",
    "            if sg.nx_graph.has_edge(u, v):\n",
    "                n_edges += 1\n",
    "                for time in data['timestamps']:\n",
    "                    for time2 in sg.nx_graph.edge[u][v]['timestamps']:\n",
    "                        if time == time2:\n",
    "                            n_time_stamps += 1\n",
    "                       # delta = time2 - time\n",
    "                       # if delta.days < .5:\n",
    "                       #     print time, time2, prev.min_date, sg.max_date\n",
    "        print(\"%d - %d\\n\\t%d edges, %d timestamps\" % (i, i -1, n_edges, n_time_stamps))\n",
    "        print(sg.min_date,sg.max_date)\n",
    "        print(prev.min_date,prev.max_date)"
   ]
  },
  {
   "cell_type": "code",
   "execution_count": 21,
   "metadata": {},
   "outputs": [
    {
     "name": "stdout",
     "output_type": "stream",
     "text": [
      "2571\n"
     ]
    }
   ],
   "source": [
    "print sgs[9].nx_graph.number_of_edges()"
   ]
  },
  {
   "cell_type": "code",
   "execution_count": null,
   "metadata": {},
   "outputs": [],
   "source": [
    ""
   ]
  }
 ],
 "metadata": {
  "kernelspec": {
   "display_name": "Python 2",
   "language": "python",
   "name": "python2"
  },
  "language_info": {
   "codemirror_mode": {
    "name": "ipython",
    "version": 2.0
   },
   "file_extension": ".py",
   "mimetype": "text/x-python",
   "name": "python",
   "nbconvert_exporter": "python",
   "pygments_lexer": "ipython2",
   "version": "2.7.6"
  }
 },
 "nbformat": 4,
 "nbformat_minor": 0
}