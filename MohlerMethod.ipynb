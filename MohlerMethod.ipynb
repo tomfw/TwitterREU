{
 "cells": [
  {
   "cell_type": "code",
   "execution_count": 1,
   "metadata": {
    "collapsed": true
   },
   "outputs": [],
   "source": [
    "import numpy as np\n",
    "import scipy.sparse\n",
    "import networkx as nx\n",
    "import random\n",
    "from sklearn.metrics import roc_auc_score, average_precision_score, precision_recall_fscore_support\n",
    "from twittergraph import TwitterGraph as tg\n",
    "import datetime\n",
    "import matplotlib.pyplot as plt\n",
    "%matplotlib inline"
   ]
  },
  {
   "cell_type": "code",
   "execution_count": 2,
   "metadata": {},
   "outputs": [],
   "source": [
    "graph = tg.rt_graph_from_json('/Users/tomfw/Downloads/DataShared/', 0)"
   ]
  },
  {
   "cell_type": "code",
   "execution_count": 3,
   "metadata": {},
   "outputs": [],
   "source": [
    "first_split = datetime.datetime(2014, 5, 5) \n",
    "second_split = datetime.datetime(2014, 5, 10)\n",
    "g_0 = tg.tg_by_removing_edges_after_date(graph, first_split)\n",
    "g_1 = tg.tg_by_removing_edges_after_date(graph, second_split)\n",
    "g_2 = tg.tg_with_tg(graph)"
   ]
  },
  {
   "cell_type": "code",
   "execution_count": 4,
   "metadata": {},
   "outputs": [],
   "source": [
    "del graph"
   ]
  },
  {
   "cell_type": "code",
   "execution_count": 5,
   "metadata": {
    "collapsed": true
   },
   "outputs": [
    {
     "name": "stdout",
     "output_type": "stream",
     "text": [
      "Found 17996 new edges out of 35993 total pairs\nFound 9687 new edges out of 19375 total pairs\n"
     ]
    }
   ],
   "source": [
    "train_pairs = g_0.make_pairs_with_edges(g_1, .5)\n",
    "test_pairs = g_1.make_pairs_with_edges(g_2, .5)"
   ]
  },
  {
   "cell_type": "code",
   "execution_count": 5,
   "metadata": {},
   "outputs": [],
   "source": [
    "def normalize(mat):\n",
    "    for i in range(mat.shape[0]):\n",
    "        s = np.sum(mat[i])\n",
    "        if s:\n",
    "            mat[i] /= s\n",
    "    return mat"
   ]
  },
  {
   "cell_type": "code",
   "execution_count": 7,
   "metadata": {},
   "outputs": [],
   "source": [
    "def normalize2(mat):\n",
    "    m = np.mean(mat)\n",
    "    c_mat = np.zeros((mat.shape[0], mat.shape[0]))\n",
    "    c_mat.fill(m)\n",
    "    mat -= c_mat\n",
    "    return mat"
   ]
  },
  {
   "cell_type": "code",
   "execution_count": 8,
   "metadata": {},
   "outputs": [],
   "source": [
    "def load_adj(prefix, d):\n",
    "    suffix = '.npz'\n",
    "    mats = []\n",
    "    for i in range(0, d):\n",
    "        f_name = prefix + str(i) + suffix\n",
    "        print(\"Loading (%d/%d): %s\" % (i + 1, d, f_name))\n",
    "        m = scipy.sparse.load_npz(f_name).todense()\n",
    "        mats.append(normalize(m))\n",
    "    return mats"
   ]
  },
  {
   "cell_type": "code",
   "execution_count": 10,
   "metadata": {},
   "outputs": [
    {
     "name": "stdout",
     "output_type": "stream",
     "text": [
      "Loading (1/11): /Users/tomfw/Downloads/SA_RT_ADJ/G_0/SA_RT_ADJ_0.npz\n"
     ]
    },
    {
     "name": "stdout",
     "output_type": "stream",
     "text": [
      "Loading (2/11): /Users/tomfw/Downloads/SA_RT_ADJ/G_0/SA_RT_ADJ_1.npz\n"
     ]
    },
    {
     "name": "stdout",
     "output_type": "stream",
     "text": [
      "Loading (3/11): /Users/tomfw/Downloads/SA_RT_ADJ/G_0/SA_RT_ADJ_2.npz\n"
     ]
    },
    {
     "name": "stdout",
     "output_type": "stream",
     "text": [
      "Loading (4/11): /Users/tomfw/Downloads/SA_RT_ADJ/G_0/SA_RT_ADJ_3.npz\n"
     ]
    },
    {
     "name": "stdout",
     "output_type": "stream",
     "text": [
      "Loading (5/11): /Users/tomfw/Downloads/SA_RT_ADJ/G_0/SA_RT_ADJ_4.npz\n"
     ]
    },
    {
     "name": "stdout",
     "output_type": "stream",
     "text": [
      "Loading (6/11): /Users/tomfw/Downloads/SA_RT_ADJ/G_0/SA_RT_ADJ_5.npz\n"
     ]
    },
    {
     "name": "stdout",
     "output_type": "stream",
     "text": [
      "Loading (7/11): /Users/tomfw/Downloads/SA_RT_ADJ/G_0/SA_RT_ADJ_6.npz\n"
     ]
    },
    {
     "name": "stdout",
     "output_type": "stream",
     "text": [
      "Loading (8/11): /Users/tomfw/Downloads/SA_RT_ADJ/G_0/SA_RT_ADJ_7.npz\n"
     ]
    },
    {
     "name": "stdout",
     "output_type": "stream",
     "text": [
      "Loading (9/11): /Users/tomfw/Downloads/SA_RT_ADJ/G_0/SA_RT_ADJ_8.npz\n"
     ]
    },
    {
     "name": "stdout",
     "output_type": "stream",
     "text": [
      "Loading (10/11): /Users/tomfw/Downloads/SA_RT_ADJ/G_0/SA_RT_ADJ_9.npz\n"
     ]
    },
    {
     "name": "stdout",
     "output_type": "stream",
     "text": [
      "Loading (11/11): /Users/tomfw/Downloads/SA_RT_ADJ/G_0/SA_RT_ADJ_10.npz\n"
     ]
    }
   ],
   "source": [
    "A = load_adj('/Users/tomfw/Downloads/SA_RT_ADJ/G_0/SA_RT_ADJ_', 11)"
   ]
  },
  {
   "cell_type": "code",
   "execution_count": 8,
   "metadata": {},
   "outputs": [],
   "source": [
    ""
   ]
  },
  {
   "cell_type": "code",
   "execution_count": 11,
   "metadata": {},
   "outputs": [],
   "source": [
    "train_a = {}\n",
    "for i in range(0, len(A)):\n",
    "    train_a[i] = {}\n",
    "    for u, v in train_pairs:\n",
    "        if u not in train_a[i]:\n",
    "            train_a[i][u] = {}\n",
    "        train_a[i][u][v] = A[i][u - 1, v - 1]"
   ]
  },
  {
   "cell_type": "code",
   "execution_count": 12,
   "metadata": {},
   "outputs": [],
   "source": [
    "del A"
   ]
  },
  {
   "cell_type": "code",
   "execution_count": 13,
   "metadata": {
    "collapsed": true
   },
   "outputs": [
    {
     "name": "stdout",
     "output_type": "stream",
     "text": [
      "Loading (1/11): /Users/tomfw/Downloads/SA_RT_ADJ/G_1/SA_RT_ADJ_0.npz\n"
     ]
    },
    {
     "name": "stdout",
     "output_type": "stream",
     "text": [
      "Loading (2/11): /Users/tomfw/Downloads/SA_RT_ADJ/G_1/SA_RT_ADJ_1.npz\n"
     ]
    },
    {
     "name": "stdout",
     "output_type": "stream",
     "text": [
      "Loading (3/11): /Users/tomfw/Downloads/SA_RT_ADJ/G_1/SA_RT_ADJ_2.npz\n"
     ]
    },
    {
     "name": "stdout",
     "output_type": "stream",
     "text": [
      "Loading (4/11): /Users/tomfw/Downloads/SA_RT_ADJ/G_1/SA_RT_ADJ_3.npz\n"
     ]
    },
    {
     "name": "stdout",
     "output_type": "stream",
     "text": [
      "Loading (5/11): /Users/tomfw/Downloads/SA_RT_ADJ/G_1/SA_RT_ADJ_4.npz\n"
     ]
    },
    {
     "name": "stdout",
     "output_type": "stream",
     "text": [
      "Loading (6/11): /Users/tomfw/Downloads/SA_RT_ADJ/G_1/SA_RT_ADJ_5.npz\n"
     ]
    },
    {
     "name": "stdout",
     "output_type": "stream",
     "text": [
      "Loading (7/11): /Users/tomfw/Downloads/SA_RT_ADJ/G_1/SA_RT_ADJ_6.npz\n"
     ]
    },
    {
     "name": "stdout",
     "output_type": "stream",
     "text": [
      "Loading (8/11): /Users/tomfw/Downloads/SA_RT_ADJ/G_1/SA_RT_ADJ_7.npz\n"
     ]
    },
    {
     "name": "stdout",
     "output_type": "stream",
     "text": [
      "Loading (9/11): /Users/tomfw/Downloads/SA_RT_ADJ/G_1/SA_RT_ADJ_8.npz\n"
     ]
    },
    {
     "name": "stdout",
     "output_type": "stream",
     "text": [
      "Loading (10/11): /Users/tomfw/Downloads/SA_RT_ADJ/G_1/SA_RT_ADJ_9.npz\n"
     ]
    },
    {
     "name": "stdout",
     "output_type": "stream",
     "text": [
      "Loading (11/11): /Users/tomfw/Downloads/SA_RT_ADJ/G_1/SA_RT_ADJ_10.npz\n"
     ]
    }
   ],
   "source": [
    "T = load_adj('/Users/tomfw/Downloads/SA_RT_ADJ/G_1/SA_RT_ADJ_', 11)"
   ]
  },
  {
   "cell_type": "code",
   "execution_count": 14,
   "metadata": {},
   "outputs": [],
   "source": [
    "test_a = {}\n",
    "for i in range(0, len(T)):\n",
    "    test_a[i] = {}\n",
    "    for u, v in test_pairs:\n",
    "        if u not in test_a[i]:\n",
    "            test_a[i][u] = {}\n",
    "        test_a[i][u][v] = T[i][u - 1, v - 1]"
   ]
  },
  {
   "cell_type": "code",
   "execution_count": 14,
   "metadata": {},
   "outputs": [],
   "source": [
    "del T"
   ]
  },
  {
   "cell_type": "code",
   "execution_count": 52,
   "metadata": {},
   "outputs": [],
   "source": [
    "beta = [1, 1, 1, 1, 1, 1, 1, 1, 1, 1, 1]"
   ]
  },
  {
   "cell_type": "code",
   "execution_count": 15,
   "metadata": {},
   "outputs": [],
   "source": [
    ""
   ]
  },
  {
   "cell_type": "code",
   "execution_count": 16,
   "metadata": {},
   "outputs": [],
   "source": [
    "a_train = nx.to_numpy_matrix(g_1.nx_graph)\n",
    "a_test = nx.to_numpy_matrix(g_2.nx_graph)"
   ]
  },
  {
   "cell_type": "code",
   "execution_count": 53,
   "metadata": {},
   "outputs": [],
   "source": [
    "def sigmoid(x):\n",
    "    return 1 / (1 + np.exp(-x))\n",
    "\n",
    "\n",
    "def h_theta():\n",
    "    # Mohler's \"P\" function\n",
    "    # sigma(i=1..n)(B_i * A_i)\n",
    "    mat = np.zeros((A[0].shape[0], A[0].shape[1]))\n",
    "    for i, b in enumerate(beta):\n",
    "        mat += b * A[i]\n",
    "    return sigmoid(mat)\n",
    "\n",
    "\n",
    "def h_theta_single(u, v, test=False):\n",
    "    p = 0\n",
    "    if not test:\n",
    "        for i in range(0, 11):\n",
    "            p += beta[i] * train_a[i][u][v]\n",
    "    else:\n",
    "        for i in range(0, 11):\n",
    "            p += beta[i] * test_a[i][u][v]\n",
    "    return sigmoid(p)\n",
    "    \n",
    "\n",
    "\"\"\"\n",
    "def dj_dtheta_j(h, j):\n",
    "    # partial of J w.r.t. theta_j\n",
    "    # definitely a way to do this step all at once as vector\n",
    "    # need to make it simple for my feeble mind\n",
    "    x_j = (beta[j] * A[j])\n",
    "    start = 0\n",
    "    der = 0\n",
    "    m = 0\n",
    "    for i in range(0, a_train.shape[0]):\n",
    "        for j in range(start, a_train.shape[0]):\n",
    "            der += ((h[i, j]) - a_train[i, j]) * x_j[i, j]\n",
    "            m += 1\n",
    "        start += 1\n",
    "        # print(\"derivative: %.4f\" % (der / m))\n",
    "    return der / m\n",
    "\n",
    "\"\"\"\n",
    "\n",
    "\n",
    "def dj_dtheta_j_single(h, j, u, v):\n",
    "    # partial of J w.r.t theta_j\n",
    "    # h is the precomputed h_theta with the before theta parameters\n",
    "    # j is the parameter of theta\n",
    "    # (u, v) is the training example\n",
    "    # x_j = (beta[j] * A[j])\n",
    "    x_j_uv = beta[j] * train_a[j][u][v]\n",
    "    der = ((h - a_train[u - 1, v - 1]) * x_j_uv)\n",
    "    return der\n",
    "\n",
    "\n",
    "def cost():\n",
    "    # log likelihood \"J(theta)\"\n",
    "    # standard logistic regression cost function\n",
    "    start = 0\n",
    "    s = 0\n",
    "    h = h_theta()\n",
    "    m = 0\n",
    "    for i in range(0, a_train.shape[0]):\n",
    "        for j in range(start, a_train.shape[0]):\n",
    "            m += 1\n",
    "            y = a_train[i, j]\n",
    "            p = h[i, j]\n",
    "            s += y * np.log(p) + (y-1) * np.log(1 - p)\n",
    "        start += 1\n",
    "    return -s/m\n",
    "\n",
    "def cost2():\n",
    "    c = 0\n",
    "    m = 0\n",
    "    for u, v in train_pairs:\n",
    "        m += 1\n",
    "        y = a_train[u - 1, v - 1]\n",
    "        p = h_theta_single(u, v)\n",
    "        c += y * np.log(p) + (y-1) * np.log(1 - p)\n",
    "    return -c / m"
   ]
  },
  {
   "cell_type": "code",
   "execution_count": 18,
   "metadata": {},
   "outputs": [],
   "source": [
    ""
   ]
  },
  {
   "cell_type": "code",
   "execution_count": 55,
   "metadata": {},
   "outputs": [],
   "source": [
    "def stochastic_gradient_descent(alpha=1e-1, decay=0.999, epochs=10000, batch_size=256):\n",
    "    eps = 0\n",
    "    costs = []\n",
    "    while eps < epochs:\n",
    "        eps += 1\n",
    "        batch = [int(random.random() * len(train_pairs)) for i in range(0, batch_size)]\n",
    "       \n",
    "        for i in batch:\n",
    "            pair = train_pairs[i]\n",
    "            u = pair[0]\n",
    "            v = pair[1]\n",
    "            h_uv = h_theta_single(u, v)\n",
    "            for j in range(0, len(beta)):\n",
    "                beta[j] -= alpha * dj_dtheta_j_single(h_uv, j, u, v)  # partial for single point, parameter\n",
    "        alpha *= decay\n",
    "        if eps % 100 == 0:\n",
    "            costs.append(cost2())\n",
    "        if eps % 1000 == 0:\n",
    "            print(\"After %d epochs cost: %.5f\" % (eps, cost2()))\n",
    "            for j in range(0, len(beta)):\n",
    "                print(\"\\tBeta %d: %f\" % (j, beta[j]))\n",
    "    return costs"
   ]
  },
  {
   "cell_type": "code",
   "execution_count": 56,
   "metadata": {
    "collapsed": true
   },
   "outputs": [
    {
     "name": "stdout",
     "output_type": "stream",
     "text": [
      "After 1000 epochs cost: -0.00071\n\tBeta 0: 1.000000\n\tBeta 1: 1.000000\n\tBeta 2: 4.940374\n\tBeta 3: 2.504396\n\tBeta 4: 1.825991\n\tBeta 5: 1.648643\n\tBeta 6: 1.422062\n\tBeta 7: 1.422959\n\tBeta 8: 1.335347\n\tBeta 9: 1.366883"
     ]
    },
    {
     "name": "stdout",
     "output_type": "stream",
     "text": [
      "\n\tBeta 10: 1.322170\nAfter 2000 epochs cost: -0.00085\n\tBeta 0: 1.000000\n\tBeta 1: 1.000000\n\tBeta 2: 6.625129\n\tBeta 3: 2.982844\n\tBeta 4: 2.049170\n\tBeta 5: 1.809584\n\tBeta 6: 1.518984\n\tBeta 7: 1.517591\n\tBeta 8: 1.408605\n\tBeta 9: 1.446751\n\tBeta 10: 1.391775"
     ]
    },
    {
     "name": "stdout",
     "output_type": "stream",
     "text": [
      "\nAfter 3000 epochs cost: -0.00090\n\tBeta 0: 1.000000\n\tBeta 1: 1.000000\n\tBeta 2: 7.331670\n\tBeta 3: 3.186346\n\tBeta 4: 2.145420\n\tBeta 5: 1.876911\n\tBeta 6: 1.559100\n\tBeta 7: 1.557226\n\tBeta 8: 1.438856\n\tBeta 9: 1.480148\n\tBeta 10: 1.420572\n"
     ]
    },
    {
     "name": "stdout",
     "output_type": "stream",
     "text": [
      "After 4000 epochs cost: -0.00092\n\tBeta 0: 1.000000\n\tBeta 1: 1.000000\n\tBeta 2: 7.609022\n\tBeta 3: 3.259835\n\tBeta 4: 2.178289\n\tBeta 5: 1.900306\n\tBeta 6: 1.573081\n\tBeta 7: 1.570863\n\tBeta 8: 1.449407\n\tBeta 9: 1.491648\n"
     ]
    },
    {
     "name": "stdout",
     "output_type": "stream",
     "text": [
      "\tBeta 10: 1.430602\nAfter 5000 epochs cost: -0.00093\n\tBeta 0: 1.000000\n\tBeta 1: 1.000000\n\tBeta 2: 7.720679\n\tBeta 3: 3.288248\n\tBeta 4: 2.191020\n\tBeta 5: 1.909340\n\tBeta 6: 1.578364\n\tBeta 7: 1.576130\n\tBeta 8: 1.453389\n\tBeta 9: 1.496077\n\tBeta 10: 1.434395"
     ]
    },
    {
     "name": "stdout",
     "output_type": "stream",
     "text": [
      "\nAfter 6000 epochs cost: -0.00093\n\tBeta 0: 1.000000\n\tBeta 1: 1.000000\n\tBeta 2: 7.761307\n\tBeta 3: 3.298878\n\tBeta 4: 2.195634\n\tBeta 5: 1.912723\n\tBeta 6: 1.580324\n\tBeta 7: 1.578099\n\tBeta 8: 1.454871\n\tBeta 9: 1.497730\n\tBeta 10: 1.435807\n"
     ]
    },
    {
     "name": "stdout",
     "output_type": "stream",
     "text": [
      "After 7000 epochs cost: -0.00093\n\tBeta 0: 1.000000\n\tBeta 1: 1.000000\n\tBeta 2: 7.776081\n\tBeta 3: 3.302738\n\tBeta 4: 2.197392\n\tBeta 5: 1.913949\n\tBeta 6: 1.581061\n\tBeta 7: 1.578813\n\tBeta 8: 1.455426\n\tBeta 9: 1.498332\n\tBeta 10: 1.436334\n"
     ]
    },
    {
     "name": "stdout",
     "output_type": "stream",
     "text": [
      "After 8000 epochs cost: -0.00093\n\tBeta 0: 1.000000\n\tBeta 1: 1.000000\n\tBeta 2: 7.781298\n\tBeta 3: 3.304152\n\tBeta 4: 2.198030\n\tBeta 5: 1.914397\n\tBeta 6: 1.581327\n\tBeta 7: 1.579074\n\tBeta 8: 1.455627\n\tBeta 9: 1.498552\n\tBeta 10: 1.436525\n"
     ]
    },
    {
     "name": "stdout",
     "output_type": "stream",
     "text": [
      "After 9000 epochs cost: -0.00093\n\tBeta 0: 1.000000\n\tBeta 1: 1.000000\n\tBeta 2: 7.783221\n\tBeta 3: 3.304683\n\tBeta 4: 2.198266\n\tBeta 5: 1.914565\n\tBeta 6: 1.581427\n\tBeta 7: 1.579171\n\tBeta 8: 1.455702\n\tBeta 9: 1.498634\n\tBeta 10: 1.436596\n"
     ]
    },
    {
     "name": "stdout",
     "output_type": "stream",
     "text": [
      "After 10000 epochs cost: -0.00093\n\tBeta 0: 1.000000\n\tBeta 1: 1.000000\n\tBeta 2: 7.783955\n\tBeta 3: 3.304879\n\tBeta 4: 2.198353\n\tBeta 5: 1.914628\n\tBeta 6: 1.581464\n\tBeta 7: 1.579208\n\tBeta 8: 1.455730\n\tBeta 9: 1.498665\n\tBeta 10: 1.436623\n"
     ]
    }
   ],
   "source": [
    "np.seterr(all='warn')  # get specifics if we underflow vs overflow etc...\n",
    "costs = stochastic_gradient_descent(batch_size=400)"
   ]
  },
  {
   "cell_type": "code",
   "execution_count": 57,
   "metadata": {},
   "outputs": [],
   "source": [
    "probs = []\n",
    "actual = []\n",
    "for u, v in test_pairs:\n",
    "    probs.append(h_theta_single(u, v, test=True))\n",
    "    actual.append(a_test[u - 1, v - 1])"
   ]
  },
  {
   "cell_type": "code",
   "execution_count": 58,
   "metadata": {},
   "outputs": [
    {
     "name": "stdout",
     "output_type": "stream",
     "text": [
      "0.500486822363\n0.61934605174\n0.5\n"
     ]
    }
   ],
   "source": [
    "print np.mean(probs)\n",
    "print np.max(probs)\n",
    "print np.min(probs)"
   ]
  },
  {
   "cell_type": "code",
   "execution_count": 30,
   "metadata": {
    "collapsed": true
   },
   "outputs": [
    {
     "ename": "NameError",
     "evalue": "global name 'A' is not defined",
     "traceback": [
      "\u001b[0;31m\u001b[0m",
      "\u001b[0;31mNameError\u001b[0mTraceback (most recent call last)",
      "\u001b[0;32m<ipython-input-30-ff835c76c6b3>\u001b[0m in \u001b[0;36m<module>\u001b[0;34m()\u001b[0m\n\u001b[0;32m----> 1\u001b[0;31m \u001b[0mh\u001b[0m \u001b[0;34m=\u001b[0m \u001b[0mh_theta\u001b[0m\u001b[0;34m(\u001b[0m\u001b[0;34m)\u001b[0m\u001b[0;34m\u001b[0m\u001b[0m\n\u001b[0m\u001b[1;32m      2\u001b[0m \u001b[0;34m\u001b[0m\u001b[0m\n\u001b[1;32m      3\u001b[0m \u001b[0mcount\u001b[0m \u001b[0;34m=\u001b[0m \u001b[0;36m0\u001b[0m\u001b[0;34m\u001b[0m\u001b[0m\n\u001b[1;32m      4\u001b[0m \u001b[0mstart\u001b[0m \u001b[0;34m=\u001b[0m \u001b[0;36m0\u001b[0m\u001b[0;34m\u001b[0m\u001b[0m\n\u001b[1;32m      5\u001b[0m \u001b[0mpredicted_pos\u001b[0m \u001b[0;34m=\u001b[0m \u001b[0;36m0\u001b[0m\u001b[0;34m\u001b[0m\u001b[0m\n",
      "\u001b[0;32m<ipython-input-12-3bb1475c5e34>\u001b[0m in \u001b[0;36mh_theta\u001b[0;34m()\u001b[0m\n\u001b[1;32m      6\u001b[0m     \u001b[0;31m# Mohler's \"P\" function\u001b[0m\u001b[0;34m\u001b[0m\u001b[0;34m\u001b[0m\u001b[0m\n\u001b[1;32m      7\u001b[0m     \u001b[0;31m# sigma(i=1..n)(B_i * A_i)\u001b[0m\u001b[0;34m\u001b[0m\u001b[0;34m\u001b[0m\u001b[0m\n\u001b[0;32m----> 8\u001b[0;31m     \u001b[0mmat\u001b[0m \u001b[0;34m=\u001b[0m \u001b[0mnp\u001b[0m\u001b[0;34m.\u001b[0m\u001b[0mzeros\u001b[0m\u001b[0;34m(\u001b[0m\u001b[0;34m(\u001b[0m\u001b[0mA\u001b[0m\u001b[0;34m[\u001b[0m\u001b[0;36m0\u001b[0m\u001b[0;34m]\u001b[0m\u001b[0;34m.\u001b[0m\u001b[0mshape\u001b[0m\u001b[0;34m[\u001b[0m\u001b[0;36m0\u001b[0m\u001b[0;34m]\u001b[0m\u001b[0;34m,\u001b[0m \u001b[0mA\u001b[0m\u001b[0;34m[\u001b[0m\u001b[0;36m0\u001b[0m\u001b[0;34m]\u001b[0m\u001b[0;34m.\u001b[0m\u001b[0mshape\u001b[0m\u001b[0;34m[\u001b[0m\u001b[0;36m1\u001b[0m\u001b[0;34m]\u001b[0m\u001b[0;34m)\u001b[0m\u001b[0;34m)\u001b[0m\u001b[0;34m\u001b[0m\u001b[0m\n\u001b[0m\u001b[1;32m      9\u001b[0m     \u001b[0;32mfor\u001b[0m \u001b[0mi\u001b[0m\u001b[0;34m,\u001b[0m \u001b[0mb\u001b[0m \u001b[0;32min\u001b[0m \u001b[0menumerate\u001b[0m\u001b[0;34m(\u001b[0m\u001b[0mbeta\u001b[0m\u001b[0;34m)\u001b[0m\u001b[0;34m:\u001b[0m\u001b[0;34m\u001b[0m\u001b[0m\n\u001b[1;32m     10\u001b[0m         \u001b[0mmat\u001b[0m \u001b[0;34m+=\u001b[0m \u001b[0mb\u001b[0m \u001b[0;34m*\u001b[0m \u001b[0mA\u001b[0m\u001b[0;34m[\u001b[0m\u001b[0mi\u001b[0m\u001b[0;34m]\u001b[0m\u001b[0;34m\u001b[0m\u001b[0m\n",
      "\u001b[0;31mNameError\u001b[0m: global name 'A' is not defined"
     ],
     "output_type": "error"
    }
   ],
   "source": [
    "h = h_theta()\n",
    "\n",
    "count = 0\n",
    "start = 0\n",
    "predicted_pos = 0\n",
    "actual = []\n",
    "probs = []\n",
    "for i in range(0, h.shape[0]):\n",
    "    for j in range(start, h.shape[1]):\n",
    "        actual.append(a_train[i, j])\n",
    "        probs.append(h[i, j])\n",
    "        if h[i, j] > 0.580097573347:\n",
    "            predicted_pos += 1\n",
    "\n",
    "            if a_train[i, j]:\n",
    "                count += 1\n",
    "    start += 1\n",
    "print(\"correct: %d / %d\" % (count, predicted_pos))"
   ]
  },
  {
   "cell_type": "code",
   "execution_count": 59,
   "metadata": {},
   "outputs": [
    {
     "name": "stdout",
     "output_type": "stream",
     "text": [
      "0.549774322547\n0.60496582293\n"
     ]
    }
   ],
   "source": [
    "print(roc_auc_score(actual, probs))\n",
    "print(average_precision_score(actual, probs))"
   ]
  },
  {
   "cell_type": "code",
   "execution_count": 60,
   "metadata": {},
   "outputs": [
    {
     "name": "stdout",
     "output_type": "stream",
     "text": [
      "5723 correct / 10792 predicted (19375 total guess)\n"
     ]
    }
   ],
   "source": [
    "correct = 0\n",
    "pred_pos = 0\n",
    "pred_label = []\n",
    "total = 0\n",
    "for i, (u, v) in enumerate(test_pairs):\n",
    "    total += 1\n",
    "    if probs[i] > 0.500016278316:\n",
    "        pred_label.append(1)\n",
    "        pred_pos += 1\n",
    "        if a_test[u - 1, v - 1]:\n",
    "            correct += 1\n",
    "    else:\n",
    "        pred_label.append(0)\n",
    "print(\"%d correct / %d predicted (%d total guess)\" % (correct, pred_pos, total))"
   ]
  },
  {
   "cell_type": "code",
   "execution_count": 61,
   "metadata": {},
   "outputs": [
    {
     "data": {
      "text/plain": [
       "[<matplotlib.lines.Line2D at 0x119f533d0>]"
      ]
     },
     "execution_count": 61,
     "metadata": {},
     "output_type": "execute_result"
    },
    {
     "data": {
      "image/png": "[encoded data removed]",
      "text/plain": [
       "<matplotlib.figure.Figure at 0x11a07a1d0>"
      ]
     },
     "metadata": {},
     "output_type": "display_data"
    }
   ],
   "source": [
    "plt.plot(costs)"
   ]
  },
  {
   "cell_type": "code",
   "execution_count": 62,
   "metadata": {},
   "outputs": [],
   "source": [
    "(pr, re, f, su) = precision_recall_fscore_support(actual, pred_label, average='binary')"
   ]
  },
  {
   "cell_type": "code",
   "execution_count": 63,
   "metadata": {},
   "outputs": [
    {
     "name": "stdout",
     "output_type": "stream",
     "text": [
      "Precision: 0.5303\nRecall: 0.5908\nF-Measure: 0.5589\n"
     ]
    }
   ],
   "source": [
    "print(\"Precision: %.4f\" % pr)\n",
    "print(\"Recall: %.4f\" % re)\n",
    "print(\"F-Measure: %.4f\" % f)"
   ]
  },
  {
   "cell_type": "code",
   "execution_count": null,
   "metadata": {},
   "outputs": [],
   "source": [
    ""
   ]
  }
 ],
 "metadata": {
  "kernelspec": {
   "display_name": "Python 2",
   "language": "python",
   "name": "python2"
  },
  "language_info": {
   "codemirror_mode": {
    "name": "ipython",
    "version": 2.0
   },
   "file_extension": ".py",
   "mimetype": "text/x-python",
   "name": "python",
   "nbconvert_exporter": "python",
   "pygments_lexer": "ipython2",
   "version": "2.7.6"
  }
 },
 "nbformat": 4,
 "nbformat_minor": 0
}