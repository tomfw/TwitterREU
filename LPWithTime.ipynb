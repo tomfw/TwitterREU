{
 "cells": [
  {
   "cell_type": "code",
   "execution_count": 1,
   "metadata": {
    "collapsed": true
   },
   "outputs": [],
   "source": [
    "import datetime\n",
    "import numpy as np\n",
    "import networkx as nx\n",
    "import pandas as pd\n",
    "from sklearn.ensemble import RandomForestClassifier\n",
    "from sklearn.svm import LinearSVC\n",
    "from sklearn.svm import SVC\n",
    "from sklearn.metrics import roc_auc_score\n",
    "from sklearn.metrics import precision_recall_fscore_support\n",
    "from itertools import chain\n",
    "import math\n",
    "import twittergraph as tg\n",
    "import random\n",
    "import re\n",
    "import json"
   ]
  },
  {
   "cell_type": "code",
   "execution_count": 3,
   "metadata": {},
   "outputs": [
    {
     "name": "stdout",
     "output_type": "stream",
     "text": [
      "Loaded 181416 tweets\n"
     ]
    }
   ],
   "source": [
    "graph = tg.LoadTwitterGraph('/Users/tomfw/Downloads/DataShared/', 0)"
   ]
  },
  {
   "cell_type": "code",
   "execution_count": 4,
   "metadata": {
    "collapsed": false
   },
   "outputs": [
    {
     "name": "stdout",
     "output_type": "stream",
     "text": [
      "Max Date: 2014-06-13 22:05:22\nMin Date: 2014-03-15 04:26:31\nGraph edges: 171685\n"
     ]
    }
   ],
   "source": [
    "print(\"Max Date: %s\" % np.max(tg.timeList))\n",
    "print(\"Min Date: %s\" % np.min(tg.timeList))\n",
    "print(\"Graph edges: %d\" % graph.number_of_edges())"
   ]
  },
  {
   "cell_type": "code",
   "execution_count": 5,
   "metadata": {},
   "outputs": [],
   "source": [
    "def remove_edges_after(split, g):\n",
    "    new_graph = g.copy()\n",
    "    for u, v in g.edges():\n",
    "        for i in range(0, len(new_graph.edge[u][v]['posted'])):\n",
    "            if new_graph.edge[u][v]['posted'][0] > split:\n",
    "                new_graph.edge[u][v]['posted'].pop(0)\n",
    "                new_graph.edge[u][v]['n_links'] -= 1\n",
    "        if len(new_graph.edge[u][v]['posted']) == 0:\n",
    "            new_graph.remove_edge(u, v)\n",
    "    return new_graph"
   ]
  },
  {
   "cell_type": "code",
   "execution_count": 6,
   "metadata": {
    "collapsed": false
   },
   "outputs": [
    {
     "name": "stdout",
     "output_type": "stream",
     "text": [
      "New edges in training set: 46261\nNew edges in testing set: 29901\ng1 deg 0: 0\ng0 edges: 95523\n"
     ]
    }
   ],
   "source": [
    "first_split = datetime.datetime(2014, 5, 5)  #shorten the middle time period because it has more edges\n",
    "second_split = datetime.datetime(2014, 5, 10)\n",
    "\n",
    "g_0 = remove_edges_after(first_split, graph)\n",
    "tg.remove_degree_zero_nodes(g_0)\n",
    "\n",
    "g_1 = remove_edges_after(second_split, graph)\n",
    "tg.remove_degree_zero_nodes(g_1)\n",
    "\n",
    "g_2 = graph\n",
    "print(\"New edges in training set: %d\" % (g_1.number_of_edges() - g_0.number_of_edges()))\n",
    "print(\"New edges in testing set: %d\" % (g_2.number_of_edges() - g_1.number_of_edges()))\n",
    "deg = 0\n",
    "for node in g_0.nodes_iter():\n",
    "    if g_1.degree(node) == 0:\n",
    "        deg += 1\n",
    "print(\"g1 deg 0: %d\" % deg)\n",
    "print(\"g0 edges: %d\" % g_0.number_of_edges())"
   ]
  },
  {
   "cell_type": "code",
   "execution_count": 7,
   "metadata": {},
   "outputs": [],
   "source": [
    "# train on g_0 fit on g_1\n",
    "# test on g_1 with labels from g_2"
   ]
  },
  {
   "cell_type": "code",
   "execution_count": 8,
   "metadata": {
    "collapsed": true
   },
   "outputs": [],
   "source": [
    ""
   ]
  },
  {
   "cell_type": "code",
   "execution_count": 8,
   "metadata": {
    "collapsed": true
   },
   "outputs": [
    {
     "name": "stdout",
     "output_type": "stream",
     "text": [
      "0 in set so far...\n"
     ]
    },
    {
     "name": "stdout",
     "output_type": "stream",
     "text": [
      "150000 in set so far...\n"
     ]
    },
    {
     "name": "stdout",
     "output_type": "stream",
     "text": [
      "252478 pairs and 0 edges in dataframe\n"
     ]
    },
    {
     "name": "stdout",
     "output_type": "stream",
     "text": [
      "0 in set so far...\n"
     ]
    },
    {
     "name": "stdout",
     "output_type": "stream",
     "text": [
      "150000 in set so far...\n"
     ]
    },
    {
     "name": "stdout",
     "output_type": "stream",
     "text": [
      "300000 in set so far...\n"
     ]
    },
    {
     "name": "stdout",
     "output_type": "stream",
     "text": [
      "430409 pairs and 0 edges in dataframe\n"
     ]
    }
   ],
   "source": [
    "df_train = tg.dataframe_from_graph(g_0, pairs=False, sampling=.01, label_graph=g_1)\n",
    "y_train = tg.labels_for_dataframe(df_train, g_1)\n",
    "\n",
    "df_test = tg.dataframe_from_graph(g_1, pairs=False, sampling=.01)\n",
    "y_test = tg.labels_for_dataframe(df_test, g_2)"
   ]
  },
  {
   "cell_type": "code",
   "execution_count": 9,
   "metadata": {
    "collapsed": true
   },
   "outputs": [
    {
     "name": "stdout",
     "output_type": "stream",
     "text": [
      "Training on 21858 new edges \nTesting on 193 new edges\n"
     ]
    }
   ],
   "source": [
    "print(\"Training on %d new edges \" % np.sum(y_train))\n",
    "print(\"Testing on %d new edges\" % np.sum(y_test))"
   ]
  },
  {
   "cell_type": "code",
   "execution_count": 10,
   "metadata": {},
   "outputs": [],
   "source": [
    "rf = RandomForestClassifier(n_estimators=500, max_depth=None, min_samples_split=2, random_state=0, )\n",
    "# rf = LinearSVC()\n",
    "fields = ['adam', 'jac', 'spl', 'nbrs', 'att']\n",
    "x_train = df_train.loc[:, fields]\n",
    "x_test = df_test.loc[:, fields]\n",
    "\n",
    "classifier = rf.fit(x_train, y_train)\n",
    "pred = classifier.predict_proba(x_test)"
   ]
  },
  {
   "cell_type": "code",
   "execution_count": 11,
   "metadata": {
    "collapsed": false
   },
   "outputs": [],
   "source": [
    "bin_pred = []\n",
    "for i in range(len(pred)):\n",
    "    if pred[i, 1] > .5:\n",
    "        bin_pred.append(True)\n",
    "    else:\n",
    "        bin_pred.append(False)"
   ]
  },
  {
   "cell_type": "code",
   "execution_count": 93,
   "metadata": {},
   "outputs": [],
   "source": [
    ""
   ]
  },
  {
   "cell_type": "code",
   "execution_count": 11,
   "metadata": {
    "collapsed": true
   },
   "outputs": [
    {
     "name": "stdout",
     "output_type": "stream",
     "text": [
      "0.815707769304\n0.698915165979\n9485\n"
     ]
    }
   ],
   "source": [
    "print(roc_auc_score(y_test, pred[:, 1]))\n",
    "print(roc_auc_score(y_test, bin_pred))\n",
    "print(np.sum(bin_pred))"
   ]
  },
  {
   "cell_type": "code",
   "execution_count": 21,
   "metadata": {
    "collapsed": true
   },
   "outputs": [
    {
     "name": "stdout",
     "output_type": "stream",
     "text": [
      "Precision: 0.5041\nRecall: 0.6989\nF-Score: 0.5028\n"
     ]
    }
   ],
   "source": [
    "(pr, re, fs, su) = precision_recall_fscore_support(y_test, bin_pred, average='macro')\n",
    "print(\"Precision: %.4f\" % pr)\n",
    "print(\"Recall: %.4f\" % re)\n",
    "print(\"F-Score: %.4f\" % fs)\n",
    "# print(\"Support: %.4f\" % su)"
   ]
  },
  {
   "cell_type": "code",
   "execution_count": null,
   "metadata": {},
   "outputs": [],
   "source": [
    "# if we force all new edges into the test set:\n",
    "# precision: .5161\n",
    "# recall : .4518\n",
    "# f-score: .4818"
   ]
  },
  {
   "cell_type": "code",
   "execution_count": 19,
   "metadata": {
    "collapsed": true
   },
   "outputs": [
    {
     "name": "stdout",
     "output_type": "stream",
     "text": [
      "Correct predictions: 420893\nIncorrect predictions: 9516\n\n81 true positive\n112 false negative\n9404 false positives\n"
     ]
    }
   ],
   "source": [
    "correct = 0\n",
    "incorrect = 0\n",
    "correct_edges = 0\n",
    "incorrect_edges = 0\n",
    "false_positive = 0\n",
    "false_negative = 0\n",
    "\n",
    "for i in range(0,df_test.shape[0]):\n",
    "    prediction = bin_pred[i]\n",
    "    actu = y_test[i]\n",
    "    if prediction == actu:\n",
    "        correct += 1\n",
    "        if actu:\n",
    "            correct_edges += 1\n",
    "    else:\n",
    "        incorrect += 1\n",
    "        if actu:\n",
    "            incorrect_edges += 1\n",
    "        else:\n",
    "            false_positive += 1\n",
    "\n",
    "print(\"Correct predictions: %d\" % correct)\n",
    "print(\"Incorrect predictions: %d\\n\" % incorrect)\n",
    "\n",
    "print(\"%d true positive\" % correct_edges)\n",
    "print(\"%d false negative\" % incorrect_edges)\n",
    "print(\"%d false positives\" % false_positive)"
   ]
  },
  {
   "cell_type": "code",
   "execution_count": 87,
   "metadata": {},
   "outputs": [],
   "source": [
    "# Obviously this isn't earth shattering, but it definitely seems\n",
    "# that class imbalance was the issue.  This was cheating, but\n",
    "# we should work to make sure that the edges-to-be end up in the \n",
    "# dataframes"
   ]
  },
  {
   "cell_type": "code",
   "execution_count": null,
   "metadata": {},
   "outputs": [],
   "source": [
    ""
   ]
  }
 ],
 "metadata": {
  "kernelspec": {
   "display_name": "Python 2",
   "language": "python",
   "name": "python2"
  },
  "language_info": {
   "codemirror_mode": {
    "name": "ipython",
    "version": 2.0
   },
   "file_extension": ".py",
   "mimetype": "text/x-python",
   "name": "python",
   "nbconvert_exporter": "python",
   "pygments_lexer": "ipython2",
   "version": "2.7.6"
  }
 },
 "nbformat": 4,
 "nbformat_minor": 0
}