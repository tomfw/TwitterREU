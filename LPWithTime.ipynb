{
 "cells": [
  {
   "cell_type": "code",
   "execution_count": 1,
   "metadata": {
    "collapsed": true
   },
   "outputs": [],
   "source": [
    "import datetime\n",
    "import numpy as np\n",
    "import networkx as nx\n",
    "import pandas as pd\n",
    "from sklearn.ensemble import RandomForestClassifier\n",
    "from sklearn.svm import LinearSVC\n",
    "from sklearn.svm import SVC\n",
    "from sklearn.metrics import roc_auc_score\n",
    "from sklearn.metrics import precision_recall_fscore_support\n",
    "from itertools import chain\n",
    "import math\n",
    "from twittergraph import TwitterGraph as tg\n",
    "from collections import defaultdict\n",
    "import random\n",
    "import re\n",
    "import json"
   ]
  },
  {
   "cell_type": "code",
   "execution_count": 3,
   "metadata": {
    "collapsed": true
   },
   "outputs": [],
   "source": [
    "# graph = tg.rt_graph_from_json('/Users/tomfw/Downloads/DataShared/', 0)\n",
    "graph = tg.rt_graph_from_json('/Users/tomfw/Downloads/DataShared/', 0)"
   ]
  },
  {
   "cell_type": "code",
   "execution_count": 5,
   "metadata": {
    "collapsed": false
   },
   "outputs": [
    {
     "name": "stdout",
     "output_type": "stream",
     "text": [
      "New edges in training set: 17996\n"
     ]
    },
    {
     "name": "stdout",
     "output_type": "stream",
     "text": [
      "New edges in testing set: 9687\n"
     ]
    }
   ],
   "source": [
    "first_split = datetime.datetime(2014, 5, 5)  #shorten the middle time period because it has more edges\n",
    "second_split = datetime.datetime(2014, 5, 10)\n",
    "\n",
    "g_0 = tg.tg_by_removing_edges_after_date(graph, first_split)\n",
    "g_0.load_embeddings('g_1.walked')\n",
    "#tg.remove_degree_zero_nodes(g_0)\n",
    "\n",
    "g_1 = tg.tg_by_removing_edges_after_date(graph, second_split)\n",
    "g_1.load_embeddings('g_1.walked')\n",
    "#tg.remove_degree_zero_nodes(g_1)\n",
    "\n",
    "g_2 = tg.tg_with_tg(graph)\n",
    "g_2.load_embeddings('g_1.walked')\n",
    "print(\"New edges in training set: %d\" % (g_1.nx_graph.number_of_edges() - g_0.nx_graph.number_of_edges()))\n",
    "print(\"New edges in testing set: %d\" % (g_2.nx_graph.number_of_edges() - g_1.nx_graph.number_of_edges()))"
   ]
  },
  {
   "cell_type": "code",
   "execution_count": 7,
   "metadata": {
    "collapsed": true
   },
   "outputs": [
    {
     "name": "stdout",
     "output_type": "stream",
     "text": [
      "Found 17996 new edges out of 35993 total pairs\nFound 9687 new edges out of 19375 total pairs\n"
     ]
    }
   ],
   "source": [
    "train_pairs = g_0.make_pairs_with_edges(g_1, .5)\n",
    "test_pairs = g_1.make_pairs_with_edges(g_2, .5)"
   ]
  },
  {
   "cell_type": "code",
   "execution_count": 5,
   "metadata": {
    "collapsed": true
   },
   "outputs": [],
   "source": [
    "# g_0.katz_for_pairs(train_pairs, '/Users/tomfw/Downloads/SA_RT_ADJ/G_0/SA_RT_ADJ_', max_length=6, beta=0.5)\n",
    "# g_1.katz_for_pairs(test_pairs, '/Users/tomfw/Downloads/SA_RT_ADJ/G_1/SA_RT_ADJ_', max_length=6, beta=0.5)"
   ]
  },
  {
   "cell_type": "code",
   "execution_count": 9,
   "metadata": {
    "collapsed": false
   },
   "outputs": [
    {
     "name": "stdout",
     "output_type": "stream",
     "text": [
      "Using the pairs you provided...\nPrecomputing katzes....\n"
     ]
    },
    {
     "name": "stdout",
     "output_type": "stream",
     "text": [
      "35993 pairs checked and 35993 pairs in dataframe\nUsing the pairs you provided...\nPrecomputing katzes....\n"
     ]
    },
    {
     "name": "stdout",
     "output_type": "stream",
     "text": [
      "19375 pairs checked and 19375 pairs in dataframe\n"
     ]
    }
   ],
   "source": [
    "df_train, y_train = g_0.to_dataframe(pairs=train_pairs, sampling=None, label_graph=g_1, min_katz=0, verbose=True)\n",
    "\n",
    "df_test, y_test = g_1.to_dataframe(pairs=test_pairs, sampling=None, label_graph=g_2, min_katz=0, verbose=True)"
   ]
  },
  {
   "cell_type": "code",
   "execution_count": 11,
   "metadata": {
    "collapsed": true
   },
   "outputs": [
    {
     "name": "stdout",
     "output_type": "stream",
     "text": [
      "Training on 17996 new edges out of 35993 pairs \nTesting on 9687 new edges out of 19375 pairs\n"
     ]
    }
   ],
   "source": [
    "print(\"Training on %d new edges out of %d pairs \" % (np.sum(y_train), df_train.shape[0]))\n",
    "print(\"Testing on %d new edges out of %d pairs\" % (np.sum(y_test), df_test.shape[0]))"
   ]
  },
  {
   "cell_type": "code",
   "execution_count": 13,
   "metadata": {},
   "outputs": [],
   "source": [
    "rf = RandomForestClassifier(n_estimators=500, max_depth=None, min_samples_split=2, random_state=0, n_jobs=-1)\n",
    "# rf = LinearSVC()\n",
    "#  fields = ['katz_centrality', 'att', 'adam', 'jac',  'nbrs', 'spl']\n",
    "fields = g_0.emb_cols\n",
    "x_train = df_train.loc[:, fields]\n",
    "x_test = df_test.loc[:, fields]\n",
    "\n",
    "classifier = rf.fit(x_train, y_train)\n",
    "pred = classifier.predict_proba(x_test)"
   ]
  },
  {
   "cell_type": "code",
   "execution_count": 15,
   "metadata": {
    "collapsed": false
   },
   "outputs": [],
   "source": [
    "bin_pred = []\n",
    "for i in range(len(pred)):\n",
    "    if pred[i, 1] > .495:\n",
    "        bin_pred.append(True)\n",
    "    else:\n",
    "        bin_pred.append(False)"
   ]
  },
  {
   "cell_type": "code",
   "execution_count": 17,
   "metadata": {
    "collapsed": true
   },
   "outputs": [
    {
     "name": "stdout",
     "output_type": "stream",
     "text": [
      "0.879949809295\n7545\n"
     ]
    }
   ],
   "source": [
    "print(roc_auc_score(y_test, pred[:, 1]))\n",
    "print(np.sum(bin_pred))"
   ]
  },
  {
   "cell_type": "code",
   "execution_count": 19,
   "metadata": {
    "collapsed": true
   },
   "outputs": [
    {
     "name": "stdout",
     "output_type": "stream",
     "text": [
      "Precision: 0.9258\nRecall: 0.7211\nF-Score: 0.8107\n"
     ]
    }
   ],
   "source": [
    "(pr, re, fs, su) = precision_recall_fscore_support(y_test, bin_pred, average='binary')\n",
    "print(\"Precision: %.4f\" % pr)\n",
    "print(\"Recall: %.4f\" % re)\n",
    "print(\"F-Score: %.4f\" % fs)\n",
    "# print(\"Support: %.4f\" % su)"
   ]
  },
  {
   "cell_type": "code",
   "execution_count": 26,
   "metadata": {
    "collapsed": true
   },
   "outputs": [
    {
     "name": "stdout",
     "output_type": "stream",
     "text": [
      "['katz_centrality', 'att', 'adam', 'jac', 'nbrs', 'spl']\n"
     ]
    },
    {
     "name": "stdout",
     "output_type": "stream",
     "text": [
      "[ 0.63594961  0.20601965  0.05225267  0.04853852  0.0220972   0.03514235]\n"
     ]
    }
   ],
   "source": [
    "print fields\n",
    "print rf.feature_importances_"
   ]
  },
  {
   "cell_type": "code",
   "execution_count": 20,
   "metadata": {
    "collapsed": true
   },
   "outputs": [
    {
     "name": "stdout",
     "output_type": "stream",
     "text": [
      "Correct predictions: 16113\nIncorrect predictions: 3262\n\n6985 true positive\n2702 false negative\n560 false positives\n"
     ]
    }
   ],
   "source": [
    "correct = 0\n",
    "incorrect = 0\n",
    "correct_edges = 0\n",
    "incorrect_edges = 0\n",
    "false_positive = 0\n",
    "false_negative = 0\n",
    "\n",
    "for i in range(0,df_test.shape[0]):\n",
    "    prediction = bin_pred[i]\n",
    "    actu = y_test[i]\n",
    "    if prediction == actu:\n",
    "        correct += 1\n",
    "        if actu:\n",
    "            correct_edges += 1\n",
    "    else:\n",
    "        incorrect += 1\n",
    "        if actu:\n",
    "            incorrect_edges += 1\n",
    "        else:\n",
    "            false_positive += 1\n",
    "\n",
    "print(\"Correct predictions: %d\" % correct)\n",
    "print(\"Incorrect predictions: %d\\n\" % incorrect)\n",
    "\n",
    "print(\"%d true positive\" % correct_edges)\n",
    "print(\"%d false negative\" % incorrect_edges)\n",
    "print(\"%d false positives\" % false_positive)"
   ]
  },
  {
   "cell_type": "code",
   "execution_count": null,
   "metadata": {},
   "outputs": [],
   "source": [
    ""
   ]
  }
 ],
 "metadata": {
  "kernelspec": {
   "display_name": "Python 2",
   "language": "python",
   "name": "python2"
  },
  "language_info": {
   "codemirror_mode": {
    "name": "ipython",
    "version": 2.0
   },
   "file_extension": ".py",
   "mimetype": "text/x-python",
   "name": "python",
   "nbconvert_exporter": "python",
   "pygments_lexer": "ipython2",
   "version": "2.7.6"
  }
 },
 "nbformat": 4,
 "nbformat_minor": 0
}