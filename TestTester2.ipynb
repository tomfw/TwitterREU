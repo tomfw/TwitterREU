{
 "cells": [
  {
   "cell_type": "code",
   "execution_count": 34,
   "metadata": {
    "collapsed": true
   },
   "outputs": [],
   "source": [
    "from TestMachine import TestMachine\n",
    "\n",
    "tester = TestMachine('/Users/tomfw/Downloads/DataShared/',  #path to directory containing data\n",
    "                     '/Users/tomfw/Downloads/DataShared/exe/', # path to directory containing line, Tanay's rf_word2vec, and modified node2vec\n",
    "                     'fb_base.csv') # output file"
   ]
  },
  {
   "cell_type": "code",
   "execution_count": 35,
   "metadata": {},
   "outputs": [],
   "source": [
    "p = [.25]\n",
    "q = [.75]\n",
    "\n",
    "betas = [5, 5, 5, 5, 5, 5, 5, 5, 5, 5]\n",
    "d_sets = ['southafrica']\n",
    "\n",
    "periods = {'enron': [(14, 14), (15, 15), [-1]],\n",
    "           'collab': [(8, 8), (9, 9), [-1]],\n",
    "           'fb': [(7, 7), (8, 8), [-1]],\n",
    "           'southafrica': [(19, 19), (20, 20), [-1]]}\n",
    "\n",
    "max_periods = {'enron': 18,\n",
    "               'collab': 9,             \n",
    "               'fb': 8,\n",
    "               'southafrica': 22}\n",
    "\n",
    "per_len = {'enron': 10,\n",
    "           'collab': 1,\n",
    "           'fb': 1,\n",
    "           'southafrica': 4}\n",
    "\n",
    "tests = []"
   ]
  },
  {
   "cell_type": "code",
   "execution_count": 36,
   "metadata": {},
   "outputs": [],
   "source": [
    "for d in d_sets:\n",
    "    counter = 0\n",
    "    for beta in betas:\n",
    "        for i in range(0, len(p)):\n",
    "            for j in range(0, len(q)):\n",
    "                # train_range = [periods[d][0][0] + counter, periods[d][0][1] + counter]\n",
    "                # test_range = [periods[d][1][0] + counter, periods[d][1][1] + counter]\n",
    "                # valid_range = [periods[d][2][0] + counter]\n",
    "                train_range = periods[d][0]\n",
    "                test_range = periods[d][1]\n",
    "                valid_range = periods[d][2]\n",
    "                t_dict = {'data': d,\n",
    "                          'period': per_len[d],\n",
    "                          'train': train_range, \n",
    "                          'test': test_range,\n",
    "                          'valid': valid_range,\n",
    "                          'n_walks': 50,\n",
    "                          'l_walks': 50,\n",
    "                          'alpha': .025,\n",
    "                          'beta': beta,\n",
    "                          'negative': 5,\n",
    "                          'window': 5,\n",
    "                          'p': p[i],\n",
    "                          'q': q[j]}\n",
    "            \n",
    "                if d in 'southafrica':\n",
    "                    t_dict['days'] = t_dict['period']\n",
    "                    del t_dict['period']\n",
    "                \n",
    "                test = tester.make_test(**t_dict)\n",
    "                tests.append(test)\n",
    "\n",
    "        # counter += 1\n",
    "        # if counter + periods[d][2][0] > max_periods[d]:\n",
    "        #    break"
   ]
  },
  {
   "cell_type": "code",
   "execution_count": 37,
   "metadata": {},
   "outputs": [
    {
     "name": "stdout",
     "output_type": "stream",
     "text": [
      "Running test 1/10 on southafrica\n"
     ]
    },
    {
     "name": "stdout",
     "output_type": "stream",
     "text": [
      "(datetime.datetime(2014, 3, 15, 0, 28, 54), datetime.datetime(2014, 3, 19, 0, 28, 54))\n"
     ]
    },
    {
     "name": "stdout",
     "output_type": "stream",
     "text": [
      "(datetime.datetime(2014, 3, 19, 0, 28, 54), datetime.datetime(2014, 3, 23, 0, 28, 54))\n"
     ]
    },
    {
     "name": "stdout",
     "output_type": "stream",
     "text": [
      "(datetime.datetime(2014, 3, 23, 0, 28, 54), datetime.datetime(2014, 3, 27, 0, 28, 54))\n"
     ]
    },
    {
     "name": "stdout",
     "output_type": "stream",
     "text": [
      "(datetime.datetime(2014, 3, 27, 0, 28, 54), datetime.datetime(2014, 3, 31, 0, 28, 54))\n"
     ]
    },
    {
     "name": "stdout",
     "output_type": "stream",
     "text": [
      "(datetime.datetime(2014, 3, 31, 0, 28, 54), datetime.datetime(2014, 4, 4, 0, 28, 54))\n"
     ]
    },
    {
     "name": "stdout",
     "output_type": "stream",
     "text": [
      "(datetime.datetime(2014, 4, 4, 0, 28, 54), datetime.datetime(2014, 4, 8, 0, 28, 54))\n"
     ]
    },
    {
     "name": "stdout",
     "output_type": "stream",
     "text": [
      "(datetime.datetime(2014, 4, 8, 0, 28, 54), datetime.datetime(2014, 4, 12, 0, 28, 54))\n"
     ]
    },
    {
     "name": "stdout",
     "output_type": "stream",
     "text": [
      "(datetime.datetime(2014, 4, 12, 0, 28, 54), datetime.datetime(2014, 4, 16, 0, 28, 54))\n"
     ]
    },
    {
     "name": "stdout",
     "output_type": "stream",
     "text": [
      "(datetime.datetime(2014, 4, 16, 0, 28, 54), datetime.datetime(2014, 4, 20, 0, 28, 54))\n"
     ]
    },
    {
     "name": "stdout",
     "output_type": "stream",
     "text": [
      "(datetime.datetime(2014, 4, 20, 0, 28, 54), datetime.datetime(2014, 4, 24, 0, 28, 54))\n"
     ]
    },
    {
     "name": "stdout",
     "output_type": "stream",
     "text": [
      "(datetime.datetime(2014, 4, 24, 0, 28, 54), datetime.datetime(2014, 4, 28, 0, 28, 54))\n"
     ]
    },
    {
     "name": "stdout",
     "output_type": "stream",
     "text": [
      "(datetime.datetime(2014, 4, 28, 0, 28, 54), datetime.datetime(2014, 5, 2, 0, 28, 54))\n"
     ]
    },
    {
     "name": "stdout",
     "output_type": "stream",
     "text": [
      "(datetime.datetime(2014, 5, 2, 0, 28, 54), datetime.datetime(2014, 5, 6, 0, 28, 54))\n"
     ]
    },
    {
     "name": "stdout",
     "output_type": "stream",
     "text": [
      "(datetime.datetime(2014, 5, 6, 0, 28, 54), datetime.datetime(2014, 5, 10, 0, 28, 54))\n"
     ]
    },
    {
     "name": "stdout",
     "output_type": "stream",
     "text": [
      "(datetime.datetime(2014, 5, 10, 0, 28, 54), datetime.datetime(2014, 5, 14, 0, 28, 54))\n"
     ]
    },
    {
     "name": "stdout",
     "output_type": "stream",
     "text": [
      "(datetime.datetime(2014, 5, 14, 0, 28, 54), datetime.datetime(2014, 5, 18, 0, 28, 54))\n"
     ]
    },
    {
     "name": "stdout",
     "output_type": "stream",
     "text": [
      "(datetime.datetime(2014, 5, 18, 0, 28, 54), datetime.datetime(2014, 5, 22, 0, 28, 54))\n"
     ]
    },
    {
     "name": "stdout",
     "output_type": "stream",
     "text": [
      "(datetime.datetime(2014, 5, 22, 0, 28, 54), datetime.datetime(2014, 5, 26, 0, 28, 54))\n"
     ]
    },
    {
     "name": "stdout",
     "output_type": "stream",
     "text": [
      "(datetime.datetime(2014, 5, 26, 0, 28, 54), datetime.datetime(2014, 5, 30, 0, 28, 54))\n"
     ]
    },
    {
     "name": "stdout",
     "output_type": "stream",
     "text": [
      "(datetime.datetime(2014, 5, 30, 0, 28, 54), datetime.datetime(2014, 6, 3, 0, 28, 54))\n"
     ]
    },
    {
     "name": "stdout",
     "output_type": "stream",
     "text": [
      "(datetime.datetime(2014, 6, 3, 0, 28, 54), datetime.datetime(2014, 6, 7, 0, 28, 54))\n"
     ]
    },
    {
     "name": "stdout",
     "output_type": "stream",
     "text": [
      "(datetime.datetime(2014, 6, 7, 0, 28, 54), datetime.datetime(2014, 6, 11, 0, 28, 54))\n"
     ]
    },
    {
     "name": "stdout",
     "output_type": "stream",
     "text": [
      "(datetime.datetime(2014, 6, 11, 0, 28, 54), datetime.datetime(2014, 6, 15, 0, 28, 54))\n"
     ]
    },
    {
     "name": "stderr",
     "output_type": "stream",
     "text": [
      "TestMachine.py:66: DtypeWarning: Columns (0) have mixed types. Specify dtype option on import or set low_memory=False.\n  result = self.run_test(test)\n"
     ]
    },
    {
     "name": "stdout",
     "output_type": "stream",
     "text": [
      "\tAUC: 0.9215 PR-AUC: 0.9190 NDCG: 1.0000\n"
     ]
    },
    {
     "name": "stdout",
     "output_type": "stream",
     "text": [
      "Running test 2/10 on southafrica\nReusing graph\n"
     ]
    },
    {
     "name": "stdout",
     "output_type": "stream",
     "text": [
      "\tAUC: 0.9259 PR-AUC: 0.9316 NDCG: 1.0000\n"
     ]
    },
    {
     "name": "stdout",
     "output_type": "stream",
     "text": [
      "Running test 3/10 on southafrica\nReusing graph\n"
     ]
    },
    {
     "name": "stdout",
     "output_type": "stream",
     "text": [
      "\tAUC: 0.9231 PR-AUC: 0.9252 NDCG: 1.0000\n"
     ]
    },
    {
     "name": "stdout",
     "output_type": "stream",
     "text": [
      "Running test 4/10 on southafrica\nReusing graph\n"
     ]
    },
    {
     "name": "stdout",
     "output_type": "stream",
     "text": [
      "\tAUC: 0.9249 PR-AUC: 0.9264 NDCG: 1.0000\n"
     ]
    },
    {
     "name": "stdout",
     "output_type": "stream",
     "text": [
      "Running test 5/10 on southafrica\nReusing graph\n"
     ]
    },
    {
     "name": "stdout",
     "output_type": "stream",
     "text": [
      "\tAUC: 0.9183 PR-AUC: 0.9184 NDCG: 1.0000\n"
     ]
    },
    {
     "name": "stdout",
     "output_type": "stream",
     "text": [
      "Running test 6/10 on southafrica\nReusing graph\n"
     ]
    },
    {
     "name": "stdout",
     "output_type": "stream",
     "text": [
      "\tAUC: 0.9112 PR-AUC: 0.9132 NDCG: 1.0000\n"
     ]
    },
    {
     "name": "stdout",
     "output_type": "stream",
     "text": [
      "Running test 7/10 on southafrica\nReusing graph\n"
     ]
    },
    {
     "name": "stdout",
     "output_type": "stream",
     "text": [
      "\tAUC: 0.9188 PR-AUC: 0.9212 NDCG: 1.0000\n"
     ]
    },
    {
     "name": "stdout",
     "output_type": "stream",
     "text": [
      "Running test 8/10 on southafrica\nReusing graph\n"
     ]
    },
    {
     "name": "stdout",
     "output_type": "stream",
     "text": [
      "\tAUC: 0.9280 PR-AUC: 0.9293 NDCG: 1.0000\n"
     ]
    },
    {
     "name": "stdout",
     "output_type": "stream",
     "text": [
      "Running test 9/10 on southafrica\nReusing graph\n"
     ]
    },
    {
     "name": "stdout",
     "output_type": "stream",
     "text": [
      "\tAUC: 0.8674 PR-AUC: 0.8698 NDCG: 0.9852\n"
     ]
    },
    {
     "name": "stdout",
     "output_type": "stream",
     "text": [
      "Running test 10/10 on southafrica\nReusing graph\n"
     ]
    },
    {
     "name": "stdout",
     "output_type": "stream",
     "text": [
      "\tAUC: 0.9285 PR-AUC: 0.9266 NDCG: 1.0000\n"
     ]
    }
   ],
   "source": [
    "tester.run_tests(tests)"
   ]
  },
  {
   "cell_type": "code",
   "execution_count": 39,
   "metadata": {},
   "outputs": [],
   "source": [
    ""
   ]
  }
 ],
 "metadata": {
  "kernelspec": {
   "display_name": "Python 2",
   "language": "python",
   "name": "python2"
  },
  "language_info": {
   "codemirror_mode": {
    "name": "ipython",
    "version": 2.0
   },
   "file_extension": ".py",
   "mimetype": "text/x-python",
   "name": "python",
   "nbconvert_exporter": "python",
   "pygments_lexer": "ipython2",
   "version": "2.7.6"
  }
 },
 "nbformat": 4,
 "nbformat_minor": 0
}