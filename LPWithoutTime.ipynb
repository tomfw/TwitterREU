{
 "cells": [
  {
   "cell_type": "code",
   "execution_count": 1,
   "metadata": {
    "collapsed": true
   },
   "outputs": [],
   "source": [
    "import datetime\n",
    "import numpy as np\n",
    "import networkx as nx\n",
    "import pandas as pd\n",
    "from sklearn.ensemble import RandomForestClassifier\n",
    "from sklearn.svm import LinearSVC\n",
    "from sklearn.svm import SVC\n",
    "from sklearn.metrics import roc_auc_score\n",
    "from sklearn.metrics import precision_recall_fscore_support\n",
    "from itertools import chain\n",
    "import math\n",
    "import twittergraph as tg\n",
    "import random"
   ]
  },
  {
   "cell_type": "code",
   "execution_count": 142,
   "metadata": {
    "collapsed": true
   },
   "outputs": [],
   "source": [
    ""
   ]
  },
  {
   "cell_type": "code",
   "execution_count": 3,
   "metadata": {},
   "outputs": [
    {
     "name": "stdout",
     "output_type": "stream",
     "text": [
      "Loaded 181416 tweets\n"
     ]
    }
   ],
   "source": [
    "graph = tg.LoadTwitterGraph('/Volumes/pond/Temp/twitter/', 0)"
   ]
  },
  {
   "cell_type": "code",
   "execution_count": 4,
   "metadata": {},
   "outputs": [
    {
     "name": "stdout",
     "output_type": "stream",
     "text": [
      "146747\n18865\n"
     ]
    }
   ],
   "source": [
    "g_train = graph.copy()\n",
    "g_test = graph.copy()\n",
    "\n",
    "for u, v in g_train.edges():\n",
    "    if random.random() < .1:\n",
    "        g_train.remove_edge(u, v)\n",
    "\n",
    "for u, v in g_test.edges():\n",
    "    if random.random() < .1:\n",
    "        g_test.remove_edge(u, v)\n",
    "\n",
    "for node in g_test.nodes():\n",
    "    nTest = nx.degree(g_test, node)\n",
    "    nTrain = nx.degree(g_train, node)\n",
    "    \n",
    "    if nTrain < 3 or nTest < 3:\n",
    "        g_test.remove_node(node)\n",
    "        g_train.remove_node(node)\n",
    "\n",
    "\n",
    "print(g_train.number_of_edges())\n",
    "print(g_train.number_of_nodes())"
   ]
  },
  {
   "cell_type": "code",
   "execution_count": 35,
   "metadata": {
    "collapsed": false
   },
   "outputs": [
    {
     "name": "stdout",
     "output_type": "stream",
     "text": [
      "Computing training features...\n"
     ]
    },
    {
     "name": "stdout",
     "output_type": "stream",
     "text": [
      "178190 pairs and 142 edges in dataframe\nComputing testing features...\n"
     ]
    },
    {
     "name": "stdout",
     "output_type": "stream",
     "text": [
      "177534 pairs and 0 edges in dataframe\n"
     ]
    }
   ],
   "source": [
    "print(\"Computing training features...\")\n",
    "df_train = tg.dataframe_from_graph(g_train, sampling=0.001)\n",
    "print(\"Computing testing features...\")\n",
    "df_test = tg.dataframe_from_graph(g_test, sampling=0.001, pairs=False)\n",
    "labels = tg.labels_for_dataframe(df_test, graph)"
   ]
  },
  {
   "cell_type": "code",
   "execution_count": 36,
   "metadata": {},
   "outputs": [
    {
     "name": "stdout",
     "output_type": "stream",
     "text": [
      "13 actual edges in test set\n"
     ]
    }
   ],
   "source": [
    "print(\"%d actual edges in test set\" % np.sum(labels))"
   ]
  },
  {
   "cell_type": "code",
   "execution_count": 37,
   "metadata": {
    "scrolled": true
   },
   "outputs": [
    {
     "name": "stderr",
     "output_type": "stream",
     "text": [
      "/Users/tomfw/anaconda/lib/python2.7/site-packages/ipykernel/__main__.py:9: DataConversionWarning: A column-vector y was passed when a 1d array was expected. Please change the shape of y to (n_samples, ), for example using ravel().\n"
     ]
    }
   ],
   "source": [
    "rf = RandomForestClassifier(n_estimators=500, max_depth=None,\n",
    "   min_samples_split=2, random_state=0, )\n",
    "# rf = LinearSVC()\n",
    "fields = ['spl', 'nbrs', 'adam', 'att', 'jac']\n",
    "x_train = df_train.loc[:, fields]\n",
    "y_train = np.reshape(df_train.link, (-1, 1))\n",
    "\n",
    "x_test = df_test.loc[:, fields]\n",
    "classifier = rf.fit(x_train, y_train)\n",
    "pred = classifier.predict_proba(x_test)"
   ]
  },
  {
   "cell_type": "code",
   "execution_count": 40,
   "metadata": {},
   "outputs": [],
   "source": [
    "bin_pred = []\n",
    "for i in range(len(pred)):\n",
    "    if pred[i, 1] > .001:\n",
    "        bin_pred.append(1)\n",
    "    else:\n",
    "        bin_pred.append(0)"
   ]
  },
  {
   "cell_type": "code",
   "execution_count": 44,
   "metadata": {},
   "outputs": [
    {
     "name": "stdout",
     "output_type": "stream",
     "text": [
      "0.875299477028\n0.870693088098\n120.980747745\n"
     ]
    }
   ],
   "source": [
    "print(roc_auc_score(labels, pred[:, 1]))\n",
    "print(roc_auc_score(labels, bin_pred))\n",
    "print(np.sum(pred[:, 1]))"
   ]
  },
  {
   "cell_type": "code",
   "execution_count": 45,
   "metadata": {
    "collapsed": true
   },
   "outputs": [
    {
     "name": "stdout",
     "output_type": "stream",
     "text": [
      "Precision: 0.0020 Recall: 0.7692 F-Score: 0.0040 Support: 13.0000\n"
     ]
    }
   ],
   "source": [
    "(pr, re, fs, su) = precision_recall_fscore_support(labels, bin_pred, average='binary')\n",
    "print(\"Precision: %.4f Recall: %.4f F-Score: %.4f Support: %.4f\" % (pr, re, fs, su))"
   ]
  },
  {
   "cell_type": "code",
   "execution_count": null,
   "metadata": {},
   "outputs": [],
   "source": [
    "# AUC is good this way when using probabilities\n",
    "# AUC can be good with binary predictions with significant adjustment of the threshold\n",
    "# similarly recall or precision may ok, but F-score is always very very bad\n",
    "# Problem might be due to imbalance of the data... There are ~180K pairs, but only 150 or so edges in the training set\n",
    "# I could force there to be more edges in the training set to see if that improves the situation.\n",
    "# relative to the number of pairs of nodes, however, edges are very rare in the data so \n",
    "# i'm not sure if adjusting the ratio in the training set would be that helpful"
   ]
  }
 ],
 "metadata": {
  "anaconda-cloud": {},
  "kernelspec": {
   "display_name": "Python 2",
   "language": "python",
   "name": "python2"
  },
  "language_info": {
   "codemirror_mode": {
    "name": "ipython",
    "version": 2.0
   },
   "file_extension": ".py",
   "mimetype": "text/x-python",
   "name": "python",
   "nbconvert_exporter": "python",
   "pygments_lexer": "ipython2",
   "version": "2.7.13"
  }
 },
 "nbformat": 4,
 "nbformat_minor": 0
}